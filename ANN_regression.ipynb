{
  "nbformat": 4,
  "nbformat_minor": 0,
  "metadata": {
    "colab": {
      "name": "ANN regression.ipynb",
      "provenance": [],
      "collapsed_sections": [],
      "authorship_tag": "ABX9TyOHvefDEeOp+2cWgv9hqu3H",
      "include_colab_link": true
    },
    "kernelspec": {
      "name": "python3",
      "display_name": "Python 3"
    },
    "language_info": {
      "name": "python"
    }
  },
  "cells": [
    {
      "cell_type": "markdown",
      "metadata": {
        "id": "view-in-github",
        "colab_type": "text"
      },
      "source": [
        "<a href=\"https://colab.research.google.com/github/gaurav21s/deep-learning-basic/blob/main/ANN_regression.ipynb\" target=\"_parent\"><img src=\"https://colab.research.google.com/assets/colab-badge.svg\" alt=\"Open In Colab\"/></a>"
      ]
    },
    {
      "cell_type": "code",
      "metadata": {
        "id": "oHTGLUUvI19K"
      },
      "source": [
        "import numpy as np\n",
        "import pandas as pd\n",
        "import matplotlib.pyplot as plt\n",
        "%matplotlib inline\n",
        "import tensorflow as tf\n",
        "from tensorflow import keras"
      ],
      "execution_count": 28,
      "outputs": []
    },
    {
      "cell_type": "code",
      "metadata": {
        "id": "ictxA5JbJE5G"
      },
      "source": [
        "from sklearn.datasets import fetch_california_housing\n",
        "housing= fetch_california_housing()"
      ],
      "execution_count": 29,
      "outputs": []
    },
    {
      "cell_type": "code",
      "metadata": {
        "colab": {
          "base_uri": "https://localhost:8080/"
        },
        "id": "G38O4hr6FG6I",
        "outputId": "861b6dc6-bf4a-4547-9555-4ddad1d68389"
      },
      "source": [
        "print(housing.feature_names)"
      ],
      "execution_count": 30,
      "outputs": [
        {
          "output_type": "stream",
          "text": [
            "['MedInc', 'HouseAge', 'AveRooms', 'AveBedrms', 'Population', 'AveOccup', 'Latitude', 'Longitude']\n"
          ],
          "name": "stdout"
        }
      ]
    },
    {
      "cell_type": "code",
      "metadata": {
        "id": "hu15ivUdFuZG"
      },
      "source": [
        "from sklearn.model_selection import train_test_split\n",
        "X_train_full, X_test,y_train_full,y_test=train_test_split(housing.data,housing.target,random_state=21)\n",
        "X_train,X_valid,y_train,y_valid=train_test_split(X_train_full,y_train_full,random_state=42)\n"
      ],
      "execution_count": 31,
      "outputs": []
    },
    {
      "cell_type": "code",
      "metadata": {
        "id": "cO6iH0dHFub5"
      },
      "source": [
        "from sklearn.preprocessing import StandardScaler\n",
        "scaler=StandardScaler()\n",
        "X_train=scaler.fit_transform(X_train)\n",
        "X_valid=scaler.transform(X_valid)\n",
        "X_test=scaler.transform(X_test)"
      ],
      "execution_count": 32,
      "outputs": []
    },
    {
      "cell_type": "code",
      "metadata": {
        "id": "Ph1pTKMfFue6"
      },
      "source": [
        "np.random.seed(21)\n",
        "tf.random.set_seed(21)"
      ],
      "execution_count": 33,
      "outputs": []
    },
    {
      "cell_type": "code",
      "metadata": {
        "colab": {
          "base_uri": "https://localhost:8080/"
        },
        "id": "4qf7CEq2FuhA",
        "outputId": "88b3a44c-f5c5-4487-88cd-8de51852f2a2"
      },
      "source": [
        "X_train.shape"
      ],
      "execution_count": 34,
      "outputs": [
        {
          "output_type": "execute_result",
          "data": {
            "text/plain": [
              "(11610, 8)"
            ]
          },
          "metadata": {},
          "execution_count": 34
        }
      ]
    },
    {
      "cell_type": "code",
      "metadata": {
        "id": "9JZihxHlFujw"
      },
      "source": [
        "model=keras.models.Sequential([\n",
        "                               keras.layers.Dense(60,activation='relu',input_shape=X_train.shape[1:]),\n",
        "                               keras.layers.Dense(30,activation='relu'),\n",
        "                               keras.layers.Dense(1)\n",
        "])"
      ],
      "execution_count": 53,
      "outputs": []
    },
    {
      "cell_type": "code",
      "metadata": {
        "colab": {
          "base_uri": "https://localhost:8080/"
        },
        "id": "yxVJEmvTJwl4",
        "outputId": "adc941ef-ff62-444b-d516-61d139fcc35f"
      },
      "source": [
        "model.summary()"
      ],
      "execution_count": 54,
      "outputs": [
        {
          "output_type": "stream",
          "text": [
            "Model: \"sequential_2\"\n",
            "_________________________________________________________________\n",
            "Layer (type)                 Output Shape              Param #   \n",
            "=================================================================\n",
            "dense_6 (Dense)              (None, 60)                540       \n",
            "_________________________________________________________________\n",
            "dense_7 (Dense)              (None, 30)                1830      \n",
            "_________________________________________________________________\n",
            "dense_8 (Dense)              (None, 1)                 31        \n",
            "=================================================================\n",
            "Total params: 2,401\n",
            "Trainable params: 2,401\n",
            "Non-trainable params: 0\n",
            "_________________________________________________________________\n"
          ],
          "name": "stdout"
        }
      ]
    },
    {
      "cell_type": "code",
      "metadata": {
        "id": "eGWO2iURFunh"
      },
      "source": [
        "model.compile(loss='mean_squared_error',\n",
        "              optimizer=keras.optimizers.Adam(learning_rate=0.01),\n",
        "              metrics=['mae'])"
      ],
      "execution_count": 55,
      "outputs": []
    },
    {
      "cell_type": "code",
      "metadata": {
        "colab": {
          "base_uri": "https://localhost:8080/"
        },
        "id": "GAI5ai95JC_a",
        "outputId": "f3ffb7c6-52ab-49cf-82b1-5ed3f062c2f4"
      },
      "source": [
        "mhistory=model.fit(X_train,y_train,epochs=50,validation_data=(X_valid,y_valid))"
      ],
      "execution_count": 56,
      "outputs": [
        {
          "output_type": "stream",
          "text": [
            "Epoch 1/50\n",
            "363/363 [==============================] - 1s 2ms/step - loss: 0.5467 - mae: 0.5146 - val_loss: 0.3662 - val_mae: 0.4281\n",
            "Epoch 2/50\n",
            "363/363 [==============================] - 1s 2ms/step - loss: 0.3913 - mae: 0.4429 - val_loss: 0.3760 - val_mae: 0.4598\n",
            "Epoch 3/50\n",
            "363/363 [==============================] - 1s 2ms/step - loss: 0.3871 - mae: 0.4344 - val_loss: 0.3195 - val_mae: 0.3915\n",
            "Epoch 4/50\n",
            "363/363 [==============================] - 1s 2ms/step - loss: 0.3488 - mae: 0.4144 - val_loss: 0.3309 - val_mae: 0.3866\n",
            "Epoch 5/50\n",
            "363/363 [==============================] - 1s 2ms/step - loss: 0.3481 - mae: 0.4142 - val_loss: 0.3110 - val_mae: 0.3796\n",
            "Epoch 6/50\n",
            "363/363 [==============================] - 1s 2ms/step - loss: 0.3558 - mae: 0.4141 - val_loss: 0.3059 - val_mae: 0.3791\n",
            "Epoch 7/50\n",
            "363/363 [==============================] - 1s 2ms/step - loss: 0.3320 - mae: 0.4064 - val_loss: 0.3039 - val_mae: 0.3929\n",
            "Epoch 8/50\n",
            "363/363 [==============================] - 1s 2ms/step - loss: 0.3303 - mae: 0.4009 - val_loss: 0.3134 - val_mae: 0.3748\n",
            "Epoch 9/50\n",
            "363/363 [==============================] - 1s 2ms/step - loss: 0.3188 - mae: 0.3936 - val_loss: 0.2926 - val_mae: 0.3809\n",
            "Epoch 10/50\n",
            "363/363 [==============================] - 1s 2ms/step - loss: 0.3182 - mae: 0.3938 - val_loss: 0.2921 - val_mae: 0.3718\n",
            "Epoch 11/50\n",
            "363/363 [==============================] - 1s 2ms/step - loss: 0.3032 - mae: 0.3842 - val_loss: 0.2900 - val_mae: 0.3675\n",
            "Epoch 12/50\n",
            "363/363 [==============================] - 1s 2ms/step - loss: 0.3042 - mae: 0.3836 - val_loss: 0.2805 - val_mae: 0.3651\n",
            "Epoch 13/50\n",
            "363/363 [==============================] - 1s 2ms/step - loss: 0.3098 - mae: 0.3837 - val_loss: 0.2935 - val_mae: 0.3732\n",
            "Epoch 14/50\n",
            "363/363 [==============================] - 1s 2ms/step - loss: 0.3068 - mae: 0.3856 - val_loss: 0.2941 - val_mae: 0.3807\n",
            "Epoch 15/50\n",
            "363/363 [==============================] - 1s 2ms/step - loss: 0.2969 - mae: 0.3794 - val_loss: 0.2920 - val_mae: 0.3830\n",
            "Epoch 16/50\n",
            "363/363 [==============================] - 1s 2ms/step - loss: 0.2994 - mae: 0.3770 - val_loss: 0.2799 - val_mae: 0.3607\n",
            "Epoch 17/50\n",
            "363/363 [==============================] - 1s 2ms/step - loss: 0.2934 - mae: 0.3755 - val_loss: 0.2776 - val_mae: 0.3656\n",
            "Epoch 18/50\n",
            "363/363 [==============================] - 1s 2ms/step - loss: 0.2899 - mae: 0.3746 - val_loss: 0.2832 - val_mae: 0.3553\n",
            "Epoch 19/50\n",
            "363/363 [==============================] - 1s 2ms/step - loss: 0.2860 - mae: 0.3701 - val_loss: 0.3248 - val_mae: 0.4181\n",
            "Epoch 20/50\n",
            "363/363 [==============================] - 1s 2ms/step - loss: 0.2906 - mae: 0.3746 - val_loss: 0.3058 - val_mae: 0.3861\n",
            "Epoch 21/50\n",
            "363/363 [==============================] - 1s 2ms/step - loss: 0.2947 - mae: 0.3784 - val_loss: 0.2839 - val_mae: 0.3656\n",
            "Epoch 22/50\n",
            "363/363 [==============================] - 1s 2ms/step - loss: 0.2829 - mae: 0.3684 - val_loss: 0.2903 - val_mae: 0.3845\n",
            "Epoch 23/50\n",
            "363/363 [==============================] - 1s 2ms/step - loss: 0.2833 - mae: 0.3678 - val_loss: 0.2884 - val_mae: 0.3650\n",
            "Epoch 24/50\n",
            "363/363 [==============================] - 1s 2ms/step - loss: 0.2802 - mae: 0.3679 - val_loss: 0.2703 - val_mae: 0.3506\n",
            "Epoch 25/50\n",
            "363/363 [==============================] - 1s 2ms/step - loss: 0.2845 - mae: 0.3697 - val_loss: 0.2995 - val_mae: 0.3724\n",
            "Epoch 26/50\n",
            "363/363 [==============================] - 1s 2ms/step - loss: 0.2796 - mae: 0.3677 - val_loss: 0.3238 - val_mae: 0.3874\n",
            "Epoch 27/50\n",
            "363/363 [==============================] - 1s 2ms/step - loss: 0.2813 - mae: 0.3688 - val_loss: 0.3335 - val_mae: 0.4255\n",
            "Epoch 28/50\n",
            "363/363 [==============================] - 1s 2ms/step - loss: 0.2790 - mae: 0.3643 - val_loss: 0.2832 - val_mae: 0.3635\n",
            "Epoch 29/50\n",
            "363/363 [==============================] - 1s 2ms/step - loss: 0.2768 - mae: 0.3639 - val_loss: 0.2835 - val_mae: 0.3611\n",
            "Epoch 30/50\n",
            "363/363 [==============================] - 1s 2ms/step - loss: 0.2940 - mae: 0.3711 - val_loss: 0.2678 - val_mae: 0.3558\n",
            "Epoch 31/50\n",
            "363/363 [==============================] - 1s 2ms/step - loss: 0.2858 - mae: 0.3716 - val_loss: 0.3009 - val_mae: 0.3688\n",
            "Epoch 32/50\n",
            "363/363 [==============================] - 1s 2ms/step - loss: 0.2847 - mae: 0.3725 - val_loss: 0.2732 - val_mae: 0.3588\n",
            "Epoch 33/50\n",
            "363/363 [==============================] - 1s 2ms/step - loss: 0.2753 - mae: 0.3621 - val_loss: 0.2624 - val_mae: 0.3373\n",
            "Epoch 34/50\n",
            "363/363 [==============================] - 1s 2ms/step - loss: 0.2708 - mae: 0.3615 - val_loss: 0.2830 - val_mae: 0.3631\n",
            "Epoch 35/50\n",
            "363/363 [==============================] - 1s 2ms/step - loss: 0.2783 - mae: 0.3622 - val_loss: 0.4485 - val_mae: 0.4220\n",
            "Epoch 36/50\n",
            "363/363 [==============================] - 1s 2ms/step - loss: 0.2780 - mae: 0.3682 - val_loss: 0.3648 - val_mae: 0.3905\n",
            "Epoch 37/50\n",
            "363/363 [==============================] - 1s 2ms/step - loss: 0.2779 - mae: 0.3613 - val_loss: 0.2797 - val_mae: 0.3616\n",
            "Epoch 38/50\n",
            "363/363 [==============================] - 1s 2ms/step - loss: 0.2693 - mae: 0.3584 - val_loss: 0.2965 - val_mae: 0.3819\n",
            "Epoch 39/50\n",
            "363/363 [==============================] - 1s 2ms/step - loss: 0.2690 - mae: 0.3602 - val_loss: 0.2818 - val_mae: 0.3594\n",
            "Epoch 40/50\n",
            "363/363 [==============================] - 1s 2ms/step - loss: 0.2663 - mae: 0.3564 - val_loss: 0.2963 - val_mae: 0.3830\n",
            "Epoch 41/50\n",
            "363/363 [==============================] - 1s 2ms/step - loss: 0.2682 - mae: 0.3573 - val_loss: 0.2815 - val_mae: 0.3497\n",
            "Epoch 42/50\n",
            "363/363 [==============================] - 1s 2ms/step - loss: 0.3058 - mae: 0.3755 - val_loss: 0.2885 - val_mae: 0.3772\n",
            "Epoch 43/50\n",
            "363/363 [==============================] - 1s 2ms/step - loss: 0.2769 - mae: 0.3656 - val_loss: 0.2722 - val_mae: 0.3564\n",
            "Epoch 44/50\n",
            "363/363 [==============================] - 1s 2ms/step - loss: 0.2655 - mae: 0.3578 - val_loss: 0.2662 - val_mae: 0.3467\n",
            "Epoch 45/50\n",
            "363/363 [==============================] - 1s 2ms/step - loss: 0.2623 - mae: 0.3544 - val_loss: 0.2755 - val_mae: 0.3493\n",
            "Epoch 46/50\n",
            "363/363 [==============================] - 1s 2ms/step - loss: 0.2641 - mae: 0.3563 - val_loss: 0.2708 - val_mae: 0.3478\n",
            "Epoch 47/50\n",
            "363/363 [==============================] - 1s 2ms/step - loss: 0.2710 - mae: 0.3603 - val_loss: 0.2929 - val_mae: 0.3712\n",
            "Epoch 48/50\n",
            "363/363 [==============================] - 1s 2ms/step - loss: 0.2682 - mae: 0.3611 - val_loss: 0.2646 - val_mae: 0.3502\n",
            "Epoch 49/50\n",
            "363/363 [==============================] - 1s 2ms/step - loss: 0.2665 - mae: 0.3585 - val_loss: 0.2676 - val_mae: 0.3492\n",
            "Epoch 50/50\n",
            "363/363 [==============================] - 1s 2ms/step - loss: 0.2667 - mae: 0.3589 - val_loss: 0.2769 - val_mae: 0.3599\n"
          ],
          "name": "stdout"
        }
      ]
    },
    {
      "cell_type": "code",
      "metadata": {
        "colab": {
          "base_uri": "https://localhost:8080/"
        },
        "id": "y5CyuDGTJZEK",
        "outputId": "47c0360a-00f7-4080-d4b9-46d46992a1d8"
      },
      "source": [
        "mae_test = model.evaluate(X_test,y_test)"
      ],
      "execution_count": 60,
      "outputs": [
        {
          "output_type": "stream",
          "text": [
            "162/162 [==============================] - 0s 1ms/step - loss: 0.2824 - mae: 0.3638\n"
          ],
          "name": "stdout"
        }
      ]
    },
    {
      "cell_type": "code",
      "metadata": {
        "id": "KFFebt2TK5D3"
      },
      "source": [
        "#mhistory.history"
      ],
      "execution_count": 58,
      "outputs": []
    },
    {
      "cell_type": "code",
      "metadata": {
        "colab": {
          "base_uri": "https://localhost:8080/",
          "height": 324
        },
        "id": "GkBAaYOzJi6r",
        "outputId": "1ee08380-3b6d-4a00-c945-a5791f66f91b"
      },
      "source": [
        "pd.DataFrame(mhistory.history).plot(figsize=(8,5))\n",
        "plt.gca().set_ylim(0,1)\n",
        "plt.grid(True)\n",
        "plt.show()"
      ],
      "execution_count": 61,
      "outputs": [
        {
          "output_type": "display_data",
          "data": {
            "image/png": "[encoded data removed]",
            "text/plain": [
              "<Figure size 576x360 with 1 Axes>"
            ]
          },
          "metadata": {
            "needs_background": "light"
          }
        }
      ]
    },
    {
      "cell_type": "code",
      "metadata": {
        "id": "NQFsKmoPKWXM"
      },
      "source": [
        "X_new=X_test[:3]"
      ],
      "execution_count": 63,
      "outputs": []
    },
    {
      "cell_type": "code",
      "metadata": {
        "id": "MG0h8xNRKWaC"
      },
      "source": [
        "ypred=model.predict(X_new)"
      ],
      "execution_count": 64,
      "outputs": []
    },
    {
      "cell_type": "code",
      "metadata": {
        "colab": {
          "base_uri": "https://localhost:8080/"
        },
        "id": "LQSoXO3cKWcv",
        "outputId": "04110093-ddb1-4030-ff9c-e2d6d2c83db4"
      },
      "source": [
        "print(ypred)\n",
        "print(y_test[:3])"
      ],
      "execution_count": 67,
      "outputs": [
        {
          "output_type": "stream",
          "text": [
            "[[0.9234779]\n",
            " [1.0784788]\n",
            " [1.551283 ]]\n",
            "[0.988 1.572 1.609]\n"
          ],
          "name": "stdout"
        }
      ]
    },
    {
      "cell_type": "code",
      "metadata": {
        "id": "O3HJI0NPKWgI"
      },
      "source": [
        ""
      ],
      "execution_count": 41,
      "outputs": []
    }
  ]
}