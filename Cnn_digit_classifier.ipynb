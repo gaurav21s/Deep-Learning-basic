{
  "nbformat": 4,
  "nbformat_minor": 0,
  "metadata": {
    "colab": {
      "name": "Cnn digit classifier.ipynb",
      "provenance": [],
      "authorship_tag": "ABX9TyMCgUiK1Sd+OlCmDOATNyXz",
      "include_colab_link": true
    },
    "kernelspec": {
      "name": "python3",
      "display_name": "Python 3"
    },
    "language_info": {
      "name": "python"
    }
  },
  "cells": [
    {
      "cell_type": "markdown",
      "metadata": {
        "id": "view-in-github",
        "colab_type": "text"
      },
      "source": [
        "<a href=\"https://colab.research.google.com/github/gaurav21s/deep-learning-basic/blob/main/Cnn_digit_classifier.ipynb\" target=\"_parent\"><img src=\"https://colab.research.google.com/assets/colab-badge.svg\" alt=\"Open In Colab\"/></a>"
      ]
    },
    {
      "cell_type": "code",
      "metadata": {
        "id": "PmQ5ygeMlIX5"
      },
      "source": [
        "import numpy as np\n",
        "import pandas as pd\n",
        "import matplotlib as mlp\n",
        "import matplotlib.pyplot as plt\n",
        "%matplotlib inline"
      ],
      "execution_count": 1,
      "outputs": []
    },
    {
      "cell_type": "code",
      "metadata": {
        "id": "bwCq2m0vlTT6"
      },
      "source": [
        "import tensorflow as tf\n",
        "from tensorflow import keras"
      ],
      "execution_count": 2,
      "outputs": []
    },
    {
      "cell_type": "code",
      "metadata": {
        "colab": {
          "base_uri": "https://localhost:8080/"
        },
        "id": "NmHIFwMPlTin",
        "outputId": "820e031d-ee37-4443-e73d-63e6e74b9967"
      },
      "source": [
        "fm = keras.datasets.mnist\n",
        "(X_train_full,y_train_full),(X_test,y_test)= fm.load_data()"
      ],
      "execution_count": 3,
      "outputs": [
        {
          "output_type": "stream",
          "name": "stdout",
          "text": [
            "Downloading data from https://storage.googleapis.com/tensorflow/tf-keras-datasets/mnist.npz\n",
            "11493376/11490434 [==============================] - 0s 0us/step\n",
            "11501568/11490434 [==============================] - 0s 0us/step\n"
          ]
        }
      ]
    },
    {
      "cell_type": "code",
      "metadata": {
        "id": "TO7NgkvslTlW"
      },
      "source": [
        " X_train_full=X_train_full.reshape((60000,28,28,1))\n",
        " X_test=X_test.reshape((10000,28,28,1))"
      ],
      "execution_count": 4,
      "outputs": []
    },
    {
      "cell_type": "code",
      "metadata": {
        "id": "DUFM8rZHlTn_"
      },
      "source": [
        "X_train_n=X_train_full/255\n",
        "X_test_n=X_test/255"
      ],
      "execution_count": 5,
      "outputs": []
    },
    {
      "cell_type": "code",
      "metadata": {
        "id": "D5iBjHX2lTqX"
      },
      "source": [
        "X_valid,X_train=X_train_n[:6000],X_train_n[6000:]\n",
        "y_valid,y_train=y_train_full[:6000],y_train_full[6000:]\n",
        "X_test=X_test_n"
      ],
      "execution_count": 6,
      "outputs": []
    },
    {
      "cell_type": "code",
      "metadata": {
        "id": "brAKpU-zlTs_"
      },
      "source": [
        "np.random.seed(42)\n",
        "tf.random.set_seed(42)\n"
      ],
      "execution_count": 7,
      "outputs": []
    },
    {
      "cell_type": "code",
      "metadata": {
        "id": "AYiixM4Mly2S"
      },
      "source": [
        "model = keras.models.Sequential()\n",
        "model.add(keras.layers.Conv2D(filters=32,kernel_size=(3,3),strides=1,padding='valid',activation='relu',input_shape=(28,28,1)))\n",
        "model.add(keras.layers.MaxPooling2D((2,2)))\n",
        "\n",
        "model.add(keras.layers.Flatten())\n",
        "model.add(keras.layers.Dense(200,activation=\"relu\"))\n",
        "model.add(keras.layers.Dense(100,activation=\"relu\"))\n",
        "model.add(keras.layers.Dense(10,activation=\"softmax\"))"
      ],
      "execution_count": 8,
      "outputs": []
    },
    {
      "cell_type": "code",
      "metadata": {
        "colab": {
          "base_uri": "https://localhost:8080/"
        },
        "id": "4sqf4WYVly5H",
        "outputId": "b334863e-2c0f-417e-9439-f6f676e83f65"
      },
      "source": [
        "model.summary()"
      ],
      "execution_count": 9,
      "outputs": [
        {
          "output_type": "stream",
          "name": "stdout",
          "text": [
            "Model: \"sequential\"\n",
            "_________________________________________________________________\n",
            "Layer (type)                 Output Shape              Param #   \n",
            "=================================================================\n",
            "conv2d (Conv2D)              (None, 26, 26, 32)        320       \n",
            "_________________________________________________________________\n",
            "max_pooling2d (MaxPooling2D) (None, 13, 13, 32)        0         \n",
            "_________________________________________________________________\n",
            "flatten (Flatten)            (None, 5408)              0         \n",
            "_________________________________________________________________\n",
            "dense (Dense)                (None, 200)               1081800   \n",
            "_________________________________________________________________\n",
            "dense_1 (Dense)              (None, 100)               20100     \n",
            "_________________________________________________________________\n",
            "dense_2 (Dense)              (None, 10)                1010      \n",
            "=================================================================\n",
            "Total params: 1,103,230\n",
            "Trainable params: 1,103,230\n",
            "Non-trainable params: 0\n",
            "_________________________________________________________________\n"
          ]
        }
      ]
    },
    {
      "cell_type": "code",
      "metadata": {
        "colab": {
          "base_uri": "https://localhost:8080/",
          "height": 661
        },
        "id": "go_feWeVly8H",
        "outputId": "7f5cec23-26a7-4298-a6c4-6bdb394431ac"
      },
      "source": [
        "import pydot\n",
        "keras.utils.plot_model(model)\n"
      ],
      "execution_count": 10,
      "outputs": [
        {
          "output_type": "execute_result",
          "data": {
            "image/png": "[encoded data removed]",
            "text/plain": [
              "<IPython.core.display.Image object>"
            ]
          },
          "metadata": {},
          "execution_count": 10
        }
      ]
    },
    {
      "cell_type": "code",
      "metadata": {
        "id": "ow9lQjszly-h"
      },
      "source": [
        "model.compile(loss=\"sparse_categorical_crossentropy\",\n",
        "              optimizer='sgd',\n",
        "              metrics=['accuracy'])"
      ],
      "execution_count": 11,
      "outputs": []
    },
    {
      "cell_type": "code",
      "metadata": {
        "colab": {
          "base_uri": "https://localhost:8080/"
        },
        "id": "YWPIJksIlzBB",
        "outputId": "651448d4-9286-48ab-b0ba-3a03b113a58a"
      },
      "source": [
        "history=model.fit(X_train,y_train,epochs=20,batch_size=64,\n",
        "                  validation_data=(X_valid,y_valid))"
      ],
      "execution_count": 13,
      "outputs": [
        {
          "output_type": "stream",
          "name": "stdout",
          "text": [
            "Epoch 1/20\n",
            "844/844 [==============================] - 31s 37ms/step - loss: 0.1361 - accuracy: 0.9597 - val_loss: 0.1190 - val_accuracy: 0.9652\n",
            "Epoch 2/20\n",
            "844/844 [==============================] - 30s 35ms/step - loss: 0.1204 - accuracy: 0.9647 - val_loss: 0.1157 - val_accuracy: 0.9650\n",
            "Epoch 3/20\n",
            "844/844 [==============================] - 30s 35ms/step - loss: 0.1077 - accuracy: 0.9677 - val_loss: 0.1011 - val_accuracy: 0.9692\n",
            "Epoch 4/20\n",
            "844/844 [==============================] - 30s 35ms/step - loss: 0.0979 - accuracy: 0.9705 - val_loss: 0.0938 - val_accuracy: 0.9725\n",
            "Epoch 5/20\n",
            "844/844 [==============================] - 30s 36ms/step - loss: 0.0894 - accuracy: 0.9732 - val_loss: 0.0924 - val_accuracy: 0.9725\n",
            "Epoch 6/20\n",
            "844/844 [==============================] - 31s 36ms/step - loss: 0.0822 - accuracy: 0.9752 - val_loss: 0.0895 - val_accuracy: 0.9737\n",
            "Epoch 7/20\n",
            "844/844 [==============================] - 31s 37ms/step - loss: 0.0763 - accuracy: 0.9774 - val_loss: 0.0821 - val_accuracy: 0.9750\n",
            "Epoch 8/20\n",
            "844/844 [==============================] - 30s 36ms/step - loss: 0.0706 - accuracy: 0.9793 - val_loss: 0.0747 - val_accuracy: 0.9777\n",
            "Epoch 9/20\n",
            "844/844 [==============================] - 31s 36ms/step - loss: 0.0661 - accuracy: 0.9806 - val_loss: 0.0725 - val_accuracy: 0.9780\n",
            "Epoch 10/20\n",
            "844/844 [==============================] - 30s 36ms/step - loss: 0.0616 - accuracy: 0.9818 - val_loss: 0.0762 - val_accuracy: 0.9758\n",
            "Epoch 11/20\n",
            "844/844 [==============================] - 30s 36ms/step - loss: 0.0575 - accuracy: 0.9832 - val_loss: 0.0693 - val_accuracy: 0.9785\n",
            "Epoch 12/20\n",
            "844/844 [==============================] - 30s 36ms/step - loss: 0.0543 - accuracy: 0.9839 - val_loss: 0.0705 - val_accuracy: 0.9795\n",
            "Epoch 13/20\n",
            "844/844 [==============================] - 31s 36ms/step - loss: 0.0511 - accuracy: 0.9845 - val_loss: 0.0661 - val_accuracy: 0.9787\n",
            "Epoch 14/20\n",
            "844/844 [==============================] - 31s 36ms/step - loss: 0.0478 - accuracy: 0.9859 - val_loss: 0.0619 - val_accuracy: 0.9812\n",
            "Epoch 15/20\n",
            "844/844 [==============================] - 31s 36ms/step - loss: 0.0453 - accuracy: 0.9871 - val_loss: 0.0644 - val_accuracy: 0.9815\n",
            "Epoch 16/20\n",
            "844/844 [==============================] - 31s 37ms/step - loss: 0.0424 - accuracy: 0.9877 - val_loss: 0.0612 - val_accuracy: 0.9817\n",
            "Epoch 17/20\n",
            "844/844 [==============================] - 32s 38ms/step - loss: 0.0408 - accuracy: 0.9881 - val_loss: 0.0664 - val_accuracy: 0.9815\n",
            "Epoch 18/20\n",
            "844/844 [==============================] - 32s 37ms/step - loss: 0.0377 - accuracy: 0.9890 - val_loss: 0.0587 - val_accuracy: 0.9810\n",
            "Epoch 19/20\n",
            "844/844 [==============================] - 31s 36ms/step - loss: 0.0363 - accuracy: 0.9891 - val_loss: 0.0708 - val_accuracy: 0.9788\n",
            "Epoch 20/20\n",
            "844/844 [==============================] - 30s 36ms/step - loss: 0.0338 - accuracy: 0.9903 - val_loss: 0.0642 - val_accuracy: 0.9807\n"
          ]
        }
      ]
    },
    {
      "cell_type": "code",
      "metadata": {
        "colab": {
          "base_uri": "https://localhost:8080/",
          "height": 596
        },
        "id": "tj8RB_UvlzDj",
        "outputId": "accb47cf-7a7a-48ce-bebe-eea50ea27a36"
      },
      "source": [
        "import pandas as pd\n",
        "\n",
        "pd.DataFrame(history.history).plot(figsize=(10,10))\n",
        "plt.grid(True)\n",
        "plt.gca().set_ylim(0,1)\n",
        "plt.show()"
      ],
      "execution_count": 14,
      "outputs": [
        {
          "output_type": "display_data",
          "data": {
            "image/png": "[encoded data removed]",
            "text/plain": [
              "<Figure size 720x720 with 1 Axes>"
            ]
          },
          "metadata": {
            "needs_background": "light"
          }
        }
      ]
    },
    {
      "cell_type": "code",
      "metadata": {
        "colab": {
          "base_uri": "https://localhost:8080/"
        },
        "id": "GVkGhXE0lTvb",
        "outputId": "057413c2-d5d1-4d91-b1ec-ee0ada309ef6"
      },
      "source": [
        "model.evaluate(X_test,y_test)"
      ],
      "execution_count": 15,
      "outputs": [
        {
          "output_type": "stream",
          "name": "stdout",
          "text": [
            "313/313 [==============================] - 3s 8ms/step - loss: 0.0641 - accuracy: 0.9784\n"
          ]
        },
        {
          "output_type": "execute_result",
          "data": {
            "text/plain": [
              "[0.06406111270189285, 0.9783999919891357]"
            ]
          },
          "metadata": {},
          "execution_count": 15
        }
      ]
    },
    {
      "cell_type": "code",
      "metadata": {
        "id": "nZsHlWyVmety"
      },
      "source": [
        "model_b = keras.models.Sequential()\n",
        "model_b.add(keras.layers.Conv2D(filters=64,kernel_size=(3,3),strides=1,padding='valid',activation='relu',input_shape=(28,28,1)))\n",
        "model_b.add(keras.layers.MaxPooling2D((2,2)))\n",
        "\n",
        "model_b.add(keras.layers.Flatten())\n",
        "model_b.add(keras.layers.Dense(200,activation=\"relu\"))\n",
        "model_b.add(keras.layers.Dense(100,activation=\"relu\"))\n",
        "model_b.add(keras.layers.Dense(10,activation=\"softmax\"))"
      ],
      "execution_count": 16,
      "outputs": []
    },
    {
      "cell_type": "code",
      "metadata": {
        "id": "Mb1wUNR_mewo"
      },
      "source": [
        "model_b.compile(loss=\"sparse_categorical_crossentropy\",\n",
        "              optimizer='sgd',\n",
        "              metrics=['accuracy'])"
      ],
      "execution_count": 21,
      "outputs": []
    },
    {
      "cell_type": "code",
      "metadata": {
        "colab": {
          "base_uri": "https://localhost:8080/"
        },
        "id": "X_zIoQ9EmezK",
        "outputId": "0c1dc3c6-c5dc-4dd1-ecf8-914d89327572"
      },
      "source": [
        "history_b=model_b.fit(X_train,y_train,epochs=20,batch_size=64,\n",
        "                  validation_data=(X_valid,y_valid))"
      ],
      "execution_count": 22,
      "outputs": [
        {
          "output_type": "stream",
          "name": "stdout",
          "text": [
            "Epoch 1/20\n",
            "844/844 [==============================] - 91s 108ms/step - loss: 0.6777 - accuracy: 0.8328 - val_loss: 0.2801 - val_accuracy: 0.9205\n",
            "Epoch 2/20\n",
            "844/844 [==============================] - 50s 60ms/step - loss: 0.2669 - accuracy: 0.9209 - val_loss: 0.2197 - val_accuracy: 0.9375\n",
            "Epoch 3/20\n",
            "844/844 [==============================] - 51s 60ms/step - loss: 0.2106 - accuracy: 0.9365 - val_loss: 0.1787 - val_accuracy: 0.9503\n",
            "Epoch 4/20\n",
            "844/844 [==============================] - 51s 60ms/step - loss: 0.1750 - accuracy: 0.9478 - val_loss: 0.1497 - val_accuracy: 0.9577\n",
            "Epoch 5/20\n",
            "844/844 [==============================] - 50s 60ms/step - loss: 0.1493 - accuracy: 0.9554 - val_loss: 0.1351 - val_accuracy: 0.9608\n",
            "Epoch 6/20\n",
            "844/844 [==============================] - 51s 60ms/step - loss: 0.1302 - accuracy: 0.9608 - val_loss: 0.1194 - val_accuracy: 0.9660\n",
            "Epoch 7/20\n",
            "844/844 [==============================] - 51s 61ms/step - loss: 0.1155 - accuracy: 0.9654 - val_loss: 0.1086 - val_accuracy: 0.9665\n",
            "Epoch 8/20\n",
            "844/844 [==============================] - 51s 60ms/step - loss: 0.1039 - accuracy: 0.9692 - val_loss: 0.0996 - val_accuracy: 0.9707\n",
            "Epoch 9/20\n",
            "844/844 [==============================] - 51s 61ms/step - loss: 0.0946 - accuracy: 0.9715 - val_loss: 0.0922 - val_accuracy: 0.9702\n",
            "Epoch 10/20\n",
            "844/844 [==============================] - 52s 61ms/step - loss: 0.0864 - accuracy: 0.9743 - val_loss: 0.0882 - val_accuracy: 0.9727\n",
            "Epoch 11/20\n",
            "844/844 [==============================] - 52s 61ms/step - loss: 0.0798 - accuracy: 0.9761 - val_loss: 0.0841 - val_accuracy: 0.9752\n",
            "Epoch 12/20\n",
            "844/844 [==============================] - 51s 60ms/step - loss: 0.0737 - accuracy: 0.9784 - val_loss: 0.0788 - val_accuracy: 0.9760\n",
            "Epoch 13/20\n",
            "844/844 [==============================] - 53s 63ms/step - loss: 0.0681 - accuracy: 0.9799 - val_loss: 0.0761 - val_accuracy: 0.9762\n",
            "Epoch 14/20\n",
            "844/844 [==============================] - 53s 63ms/step - loss: 0.0634 - accuracy: 0.9816 - val_loss: 0.0746 - val_accuracy: 0.9768\n",
            "Epoch 15/20\n",
            "844/844 [==============================] - 52s 61ms/step - loss: 0.0602 - accuracy: 0.9819 - val_loss: 0.0786 - val_accuracy: 0.9767\n",
            "Epoch 16/20\n",
            "844/844 [==============================] - 52s 62ms/step - loss: 0.0563 - accuracy: 0.9828 - val_loss: 0.0722 - val_accuracy: 0.9772\n",
            "Epoch 17/20\n",
            "844/844 [==============================] - 51s 61ms/step - loss: 0.0533 - accuracy: 0.9841 - val_loss: 0.0757 - val_accuracy: 0.9765\n",
            "Epoch 18/20\n",
            "844/844 [==============================] - 52s 62ms/step - loss: 0.0498 - accuracy: 0.9852 - val_loss: 0.0645 - val_accuracy: 0.9797\n",
            "Epoch 19/20\n",
            "844/844 [==============================] - 52s 61ms/step - loss: 0.0471 - accuracy: 0.9859 - val_loss: 0.0750 - val_accuracy: 0.9762\n",
            "Epoch 20/20\n",
            "844/844 [==============================] - 52s 61ms/step - loss: 0.0439 - accuracy: 0.9873 - val_loss: 0.0709 - val_accuracy: 0.9785\n"
          ]
        }
      ]
    },
    {
      "cell_type": "code",
      "metadata": {
        "colab": {
          "base_uri": "https://localhost:8080/",
          "height": 596
        },
        "id": "QRKh_5p5lTyF",
        "outputId": "08e70a2c-6ac8-4d33-eafc-7b28d0733501"
      },
      "source": [
        "import pandas as pd\n",
        "\n",
        "pd.DataFrame(history_b.history).plot(figsize=(10,10))\n",
        "plt.grid(True)\n",
        "plt.gca().set_ylim(0,1)\n",
        "plt.show()"
      ],
      "execution_count": 23,
      "outputs": [
        {
          "output_type": "display_data",
          "data": {
            "image/png": "[encoded data removed]",
            "text/plain": [
              "<Figure size 720x720 with 1 Axes>"
            ]
          },
          "metadata": {
            "needs_background": "light"
          }
        }
      ]
    },
    {
      "cell_type": "code",
      "metadata": {
        "colab": {
          "base_uri": "https://localhost:8080/"
        },
        "id": "Fhhu_cEimlm3",
        "outputId": "2b2048db-f7fb-4887-836e-efb9060d319e"
      },
      "source": [
        "model_b.evaluate(X_test,y_test)"
      ],
      "execution_count": 24,
      "outputs": [
        {
          "output_type": "stream",
          "name": "stdout",
          "text": [
            "313/313 [==============================] - 3s 11ms/step - loss: 0.0668 - accuracy: 0.9776\n"
          ]
        },
        {
          "output_type": "execute_result",
          "data": {
            "text/plain": [
              "[0.06684912741184235, 0.9775999784469604]"
            ]
          },
          "metadata": {},
          "execution_count": 24
        }
      ]
    },
    {
      "cell_type": "code",
      "metadata": {
        "id": "MwpCkPwHmlo_"
      },
      "source": [
        ""
      ],
      "execution_count": null,
      "outputs": []
    }
  ]
}