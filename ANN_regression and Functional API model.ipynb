{
  "nbformat": 4,
  "nbformat_minor": 0,
  "metadata": {
    "colab": {
      "name": "ANN regression.ipynb",
      "provenance": [],
      "collapsed_sections": [],
      "authorship_tag": "ABX9TyOwkr0sycK0bztmKGEZE9eO",
      "include_colab_link": true
    },
    "kernelspec": {
      "name": "python3",
      "display_name": "Python 3"
    },
    "language_info": {
      "name": "python"
    }
  },
  "cells": [
    {
      "cell_type": "markdown",
      "metadata": {
        "id": "view-in-github",
        "colab_type": "text"
      },
      "source": [
        "<a href=\"https://colab.research.google.com/github/gaurav21s/deep-learning-basic/blob/main/ANN_regression%20and%20Functional%20API%20model.ipynb\" target=\"_parent\"><img src=\"https://colab.research.google.com/assets/colab-badge.svg\" alt=\"Open In Colab\"/></a>"
      ]
    },
    {
      "cell_type": "code",
      "metadata": {
        "id": "oHTGLUUvI19K"
      },
      "source": [
        "import numpy as np\n",
        "import pandas as pd\n",
        "import matplotlib.pyplot as plt\n",
        "%matplotlib inline\n",
        "import tensorflow as tf\n",
        "from tensorflow import keras"
      ],
      "execution_count": 208,
      "outputs": []
    },
    {
      "cell_type": "code",
      "metadata": {
        "id": "ictxA5JbJE5G"
      },
      "source": [
        "from sklearn.datasets import fetch_california_housing\n",
        "housing= fetch_california_housing()"
      ],
      "execution_count": 209,
      "outputs": []
    },
    {
      "cell_type": "code",
      "metadata": {
        "colab": {
          "base_uri": "https://localhost:8080/"
        },
        "id": "G38O4hr6FG6I",
        "outputId": "fe5283d0-7341-4f48-a5e5-05be94e1423b"
      },
      "source": [
        "print(housing.feature_names)"
      ],
      "execution_count": 210,
      "outputs": [
        {
          "output_type": "stream",
          "text": [
            "['MedInc', 'HouseAge', 'AveRooms', 'AveBedrms', 'Population', 'AveOccup', 'Latitude', 'Longitude']\n"
          ],
          "name": "stdout"
        }
      ]
    },
    {
      "cell_type": "code",
      "metadata": {
        "id": "hu15ivUdFuZG"
      },
      "source": [
        "from sklearn.model_selection import train_test_split\n",
        "X_train_full, X_test,y_train_full,y_test=train_test_split(housing.data,housing.target,random_state=21)\n",
        "X_train,X_valid,y_train,y_valid=train_test_split(X_train_full,y_train_full,random_state=42)\n"
      ],
      "execution_count": 211,
      "outputs": []
    },
    {
      "cell_type": "code",
      "metadata": {
        "id": "cO6iH0dHFub5"
      },
      "source": [
        "from sklearn.preprocessing import StandardScaler\n",
        "scaler=StandardScaler()\n",
        "X_train=scaler.fit_transform(X_train)\n",
        "X_valid=scaler.transform(X_valid)\n",
        "X_test=scaler.transform(X_test)"
      ],
      "execution_count": 212,
      "outputs": []
    },
    {
      "cell_type": "code",
      "metadata": {
        "id": "Ph1pTKMfFue6"
      },
      "source": [
        "np.random.seed(21)\n",
        "tf.random.set_seed(21)"
      ],
      "execution_count": 213,
      "outputs": []
    },
    {
      "cell_type": "code",
      "metadata": {
        "colab": {
          "base_uri": "https://localhost:8080/"
        },
        "id": "4qf7CEq2FuhA",
        "outputId": "b185e992-2006-4948-b68a-3dd1cc7a7aaf"
      },
      "source": [
        "X_train.shape"
      ],
      "execution_count": 214,
      "outputs": [
        {
          "output_type": "execute_result",
          "data": {
            "text/plain": [
              "(11610, 8)"
            ]
          },
          "metadata": {},
          "execution_count": 214
        }
      ]
    },
    {
      "cell_type": "code",
      "metadata": {
        "id": "9JZihxHlFujw"
      },
      "source": [
        "model=keras.models.Sequential([\n",
        "                               keras.layers.Dense(50,activation='relu',input_shape=X_train.shape[1:]),\n",
        "                               keras.layers.Dense(25,activation='relu'),\n",
        "                               keras.layers.Dense(1)\n",
        "])"
      ],
      "execution_count": 215,
      "outputs": []
    },
    {
      "cell_type": "code",
      "metadata": {
        "colab": {
          "base_uri": "https://localhost:8080/"
        },
        "id": "yxVJEmvTJwl4",
        "outputId": "586d0bee-928f-499d-a5e9-968dc66a60c7"
      },
      "source": [
        "model.summary()"
      ],
      "execution_count": 216,
      "outputs": [
        {
          "output_type": "stream",
          "text": [
            "Model: \"sequential\"\n",
            "_________________________________________________________________\n",
            "Layer (type)                 Output Shape              Param #   \n",
            "=================================================================\n",
            "dense_3 (Dense)              (None, 50)                450       \n",
            "_________________________________________________________________\n",
            "dense_4 (Dense)              (None, 25)                1275      \n",
            "_________________________________________________________________\n",
            "dense_5 (Dense)              (None, 1)                 26        \n",
            "=================================================================\n",
            "Total params: 1,751\n",
            "Trainable params: 1,751\n",
            "Non-trainable params: 0\n",
            "_________________________________________________________________\n"
          ],
          "name": "stdout"
        }
      ]
    },
    {
      "cell_type": "code",
      "metadata": {
        "id": "eGWO2iURFunh"
      },
      "source": [
        "model.compile(loss='mean_squared_error',\n",
        "              optimizer=keras.optimizers.Adamax(learning_rate=0.01),\n",
        "              metrics=['mae'])"
      ],
      "execution_count": 217,
      "outputs": []
    },
    {
      "cell_type": "code",
      "metadata": {
        "colab": {
          "base_uri": "https://localhost:8080/"
        },
        "id": "GAI5ai95JC_a",
        "outputId": "7e94bce2-e39c-4289-949d-b086d4ab3a10"
      },
      "source": [
        "mhistory=model.fit(X_train,y_train,epochs=50,validation_data=(X_valid,y_valid))"
      ],
      "execution_count": 218,
      "outputs": [
        {
          "output_type": "stream",
          "text": [
            "Epoch 1/50\n",
            "363/363 [==============================] - 1s 2ms/step - loss: 0.6367 - mae: 0.5441 - val_loss: 0.3704 - val_mae: 0.4320\n",
            "Epoch 2/50\n",
            "363/363 [==============================] - 1s 2ms/step - loss: 0.4008 - mae: 0.4500 - val_loss: 0.3715 - val_mae: 0.4536\n",
            "Epoch 3/50\n",
            "363/363 [==============================] - 1s 2ms/step - loss: 0.3809 - mae: 0.4390 - val_loss: 0.3326 - val_mae: 0.4099\n",
            "Epoch 4/50\n",
            "363/363 [==============================] - 1s 2ms/step - loss: 0.3661 - mae: 0.4278 - val_loss: 0.3310 - val_mae: 0.4062\n",
            "Epoch 5/50\n",
            "363/363 [==============================] - 1s 2ms/step - loss: 0.3530 - mae: 0.4191 - val_loss: 0.3231 - val_mae: 0.3960\n",
            "Epoch 6/50\n",
            "363/363 [==============================] - 1s 2ms/step - loss: 0.3431 - mae: 0.4102 - val_loss: 0.3201 - val_mae: 0.3821\n",
            "Epoch 7/50\n",
            "363/363 [==============================] - 1s 2ms/step - loss: 0.3333 - mae: 0.4058 - val_loss: 0.3019 - val_mae: 0.3847\n",
            "Epoch 8/50\n",
            "363/363 [==============================] - 1s 2ms/step - loss: 0.3241 - mae: 0.3973 - val_loss: 0.2997 - val_mae: 0.3731\n",
            "Epoch 9/50\n",
            "363/363 [==============================] - 1s 2ms/step - loss: 0.3293 - mae: 0.3951 - val_loss: 0.2995 - val_mae: 0.3720\n",
            "Epoch 10/50\n",
            "363/363 [==============================] - 1s 2ms/step - loss: 0.3115 - mae: 0.3882 - val_loss: 0.2862 - val_mae: 0.3678\n",
            "Epoch 11/50\n",
            "363/363 [==============================] - 1s 2ms/step - loss: 0.3040 - mae: 0.3842 - val_loss: 0.2901 - val_mae: 0.3663\n",
            "Epoch 12/50\n",
            "363/363 [==============================] - 1s 2ms/step - loss: 0.3040 - mae: 0.3821 - val_loss: 0.2878 - val_mae: 0.3695\n",
            "Epoch 13/50\n",
            "363/363 [==============================] - 1s 2ms/step - loss: 0.3003 - mae: 0.3815 - val_loss: 0.2892 - val_mae: 0.3704\n",
            "Epoch 14/50\n",
            "363/363 [==============================] - 1s 2ms/step - loss: 0.2985 - mae: 0.3788 - val_loss: 0.2995 - val_mae: 0.3920\n",
            "Epoch 15/50\n",
            "363/363 [==============================] - 1s 2ms/step - loss: 0.2950 - mae: 0.3775 - val_loss: 0.3029 - val_mae: 0.3983\n",
            "Epoch 16/50\n",
            "363/363 [==============================] - 1s 2ms/step - loss: 0.2939 - mae: 0.3770 - val_loss: 0.3206 - val_mae: 0.4163\n",
            "Epoch 17/50\n",
            "363/363 [==============================] - 1s 2ms/step - loss: 0.2912 - mae: 0.3735 - val_loss: 0.2726 - val_mae: 0.3504\n",
            "Epoch 18/50\n",
            "363/363 [==============================] - 1s 2ms/step - loss: 0.2897 - mae: 0.3728 - val_loss: 0.2876 - val_mae: 0.3626\n",
            "Epoch 19/50\n",
            "363/363 [==============================] - 1s 2ms/step - loss: 0.2831 - mae: 0.3679 - val_loss: 0.2778 - val_mae: 0.3619\n",
            "Epoch 20/50\n",
            "363/363 [==============================] - 1s 2ms/step - loss: 0.2850 - mae: 0.3702 - val_loss: 0.2833 - val_mae: 0.3695\n",
            "Epoch 21/50\n",
            "363/363 [==============================] - 1s 2ms/step - loss: 0.2833 - mae: 0.3689 - val_loss: 0.2789 - val_mae: 0.3536\n",
            "Epoch 22/50\n",
            "363/363 [==============================] - 1s 2ms/step - loss: 0.2794 - mae: 0.3639 - val_loss: 0.2794 - val_mae: 0.3735\n",
            "Epoch 23/50\n",
            "363/363 [==============================] - 1s 2ms/step - loss: 0.2783 - mae: 0.3637 - val_loss: 0.2738 - val_mae: 0.3512\n",
            "Epoch 24/50\n",
            "363/363 [==============================] - 1s 2ms/step - loss: 0.2746 - mae: 0.3618 - val_loss: 0.2686 - val_mae: 0.3488\n",
            "Epoch 25/50\n",
            "363/363 [==============================] - 1s 2ms/step - loss: 0.2785 - mae: 0.3634 - val_loss: 0.2660 - val_mae: 0.3426\n",
            "Epoch 26/50\n",
            "363/363 [==============================] - 1s 2ms/step - loss: 0.2742 - mae: 0.3618 - val_loss: 0.2944 - val_mae: 0.3744\n",
            "Epoch 27/50\n",
            "363/363 [==============================] - 1s 2ms/step - loss: 0.2744 - mae: 0.3617 - val_loss: 0.3103 - val_mae: 0.4063\n",
            "Epoch 28/50\n",
            "363/363 [==============================] - 1s 2ms/step - loss: 0.2726 - mae: 0.3588 - val_loss: 0.2726 - val_mae: 0.3549\n",
            "Epoch 29/50\n",
            "363/363 [==============================] - 1s 2ms/step - loss: 0.2680 - mae: 0.3559 - val_loss: 0.2746 - val_mae: 0.3618\n",
            "Epoch 30/50\n",
            "363/363 [==============================] - 1s 2ms/step - loss: 0.2698 - mae: 0.3584 - val_loss: 0.2576 - val_mae: 0.3430\n",
            "Epoch 31/50\n",
            "363/363 [==============================] - 1s 2ms/step - loss: 0.2693 - mae: 0.3587 - val_loss: 0.2613 - val_mae: 0.3423\n",
            "Epoch 32/50\n",
            "363/363 [==============================] - 1s 2ms/step - loss: 0.2684 - mae: 0.3555 - val_loss: 0.2608 - val_mae: 0.3453\n",
            "Epoch 33/50\n",
            "363/363 [==============================] - 1s 2ms/step - loss: 0.2672 - mae: 0.3550 - val_loss: 0.2612 - val_mae: 0.3363\n",
            "Epoch 34/50\n",
            "363/363 [==============================] - 1s 2ms/step - loss: 0.2641 - mae: 0.3537 - val_loss: 0.2648 - val_mae: 0.3434\n",
            "Epoch 35/50\n",
            "363/363 [==============================] - 1s 2ms/step - loss: 0.2627 - mae: 0.3517 - val_loss: 0.2627 - val_mae: 0.3410\n",
            "Epoch 36/50\n",
            "363/363 [==============================] - 1s 2ms/step - loss: 0.2614 - mae: 0.3499 - val_loss: 0.2684 - val_mae: 0.3545\n",
            "Epoch 37/50\n",
            "363/363 [==============================] - 1s 2ms/step - loss: 0.2593 - mae: 0.3503 - val_loss: 0.2708 - val_mae: 0.3577\n",
            "Epoch 38/50\n",
            "363/363 [==============================] - 1s 2ms/step - loss: 0.2600 - mae: 0.3507 - val_loss: 0.2830 - val_mae: 0.3675\n",
            "Epoch 39/50\n",
            "363/363 [==============================] - 1s 2ms/step - loss: 0.2595 - mae: 0.3521 - val_loss: 0.2699 - val_mae: 0.3464\n",
            "Epoch 40/50\n",
            "363/363 [==============================] - 1s 2ms/step - loss: 0.2580 - mae: 0.3500 - val_loss: 0.2812 - val_mae: 0.3736\n",
            "Epoch 41/50\n",
            "363/363 [==============================] - 1s 2ms/step - loss: 0.2613 - mae: 0.3517 - val_loss: 0.2627 - val_mae: 0.3450\n",
            "Epoch 42/50\n",
            "363/363 [==============================] - 1s 2ms/step - loss: 0.2592 - mae: 0.3490 - val_loss: 0.2671 - val_mae: 0.3573\n",
            "Epoch 43/50\n",
            "363/363 [==============================] - 1s 2ms/step - loss: 0.2578 - mae: 0.3493 - val_loss: 0.2562 - val_mae: 0.3384\n",
            "Epoch 44/50\n",
            "363/363 [==============================] - 1s 2ms/step - loss: 0.2546 - mae: 0.3466 - val_loss: 0.2557 - val_mae: 0.3386\n",
            "Epoch 45/50\n",
            "363/363 [==============================] - 1s 2ms/step - loss: 0.2541 - mae: 0.3472 - val_loss: 0.2687 - val_mae: 0.3411\n",
            "Epoch 46/50\n",
            "363/363 [==============================] - 1s 2ms/step - loss: 0.2546 - mae: 0.3466 - val_loss: 0.2672 - val_mae: 0.3421\n",
            "Epoch 47/50\n",
            "363/363 [==============================] - 1s 2ms/step - loss: 0.2556 - mae: 0.3468 - val_loss: 0.2633 - val_mae: 0.3487\n",
            "Epoch 48/50\n",
            "363/363 [==============================] - 1s 2ms/step - loss: 0.2528 - mae: 0.3462 - val_loss: 0.2616 - val_mae: 0.3551\n",
            "Epoch 49/50\n",
            "363/363 [==============================] - 1s 2ms/step - loss: 0.2524 - mae: 0.3448 - val_loss: 0.2534 - val_mae: 0.3379\n",
            "Epoch 50/50\n",
            "363/363 [==============================] - 1s 2ms/step - loss: 0.2510 - mae: 0.3446 - val_loss: 0.2657 - val_mae: 0.3475\n"
          ],
          "name": "stdout"
        }
      ]
    },
    {
      "cell_type": "code",
      "metadata": {
        "colab": {
          "base_uri": "https://localhost:8080/"
        },
        "id": "y5CyuDGTJZEK",
        "outputId": "08e793f0-cb29-49e8-9b8d-bfd27869dc15"
      },
      "source": [
        "mae_test = model.evaluate(X_test,y_test)"
      ],
      "execution_count": 219,
      "outputs": [
        {
          "output_type": "stream",
          "text": [
            "162/162 [==============================] - 0s 1ms/step - loss: 0.2732 - mae: 0.3526\n"
          ],
          "name": "stdout"
        }
      ]
    },
    {
      "cell_type": "code",
      "metadata": {
        "id": "KFFebt2TK5D3"
      },
      "source": [
        "#mhistory.history"
      ],
      "execution_count": 220,
      "outputs": []
    },
    {
      "cell_type": "code",
      "metadata": {
        "colab": {
          "base_uri": "https://localhost:8080/",
          "height": 324
        },
        "id": "GkBAaYOzJi6r",
        "outputId": "bcf9867d-c650-4ecf-8813-bbe6317726b2"
      },
      "source": [
        "pd.DataFrame(mhistory.history).plot(figsize=(8,5))\n",
        "plt.gca().set_ylim(0,1)\n",
        "plt.grid(True)\n",
        "plt.show()"
      ],
      "execution_count": 221,
      "outputs": [
        {
          "output_type": "display_data",
          "data": {
            "image/png": "[encoded data removed]",
            "text/plain": [
              "<Figure size 576x360 with 1 Axes>"
            ]
          },
          "metadata": {
            "needs_background": "light"
          }
        }
      ]
    },
    {
      "cell_type": "code",
      "metadata": {
        "id": "NQFsKmoPKWXM"
      },
      "source": [
        "X_new=X_test[5:10]"
      ],
      "execution_count": 222,
      "outputs": []
    },
    {
      "cell_type": "code",
      "metadata": {
        "id": "MG0h8xNRKWaC"
      },
      "source": [
        "ypred=model.predict(X_new)"
      ],
      "execution_count": 223,
      "outputs": []
    },
    {
      "cell_type": "code",
      "metadata": {
        "colab": {
          "base_uri": "https://localhost:8080/"
        },
        "id": "LQSoXO3cKWcv",
        "outputId": "44e51ad9-c448-4927-b129-97b0bc4eb027"
      },
      "source": [
        "print(ypred)\n",
        "print(y_test[5:10])"
      ],
      "execution_count": 224,
      "outputs": [
        {
          "output_type": "stream",
          "text": [
            "[[2.558901 ]\n",
            " [1.9113387]\n",
            " [2.5134947]\n",
            " [5.0857844]\n",
            " [5.079102 ]]\n",
            "[2.594   2.875   2.113   5.00001 5.00001]\n"
          ],
          "name": "stdout"
        }
      ]
    },
    {
      "cell_type": "code",
      "metadata": {
        "id": "v93yJ7p0UxRg"
      },
      "source": [
        "model.save(\"Ann_regression.h5\")"
      ],
      "execution_count": 225,
      "outputs": []
    },
    {
      "cell_type": "markdown",
      "metadata": {
        "id": "g6ZuCTFlRdCk"
      },
      "source": [
        "#Functional API"
      ]
    },
    {
      "cell_type": "code",
      "metadata": {
        "id": "O3HJI0NPKWgI"
      },
      "source": [
        "del model"
      ],
      "execution_count": 226,
      "outputs": []
    },
    {
      "cell_type": "code",
      "metadata": {
        "id": "ecY_4nKYQ5IH"
      },
      "source": [
        "keras.backend.clear_session()"
      ],
      "execution_count": 227,
      "outputs": []
    },
    {
      "cell_type": "code",
      "metadata": {
        "id": "dPlAavHOQ5K3"
      },
      "source": [
        "input_=keras.layers.Input(shape=X_train.shape[1:])\n",
        "hid1=keras.layers.Dense(50,activation='relu')(input_)\n",
        "hid2=keras.layers.Dense(50,activation='relu')(hid1)\n",
        "concat=keras.layers.concatenate([input_,hid2])\n",
        "output=keras.layers.Dense(1)(concat)\n",
        "model=keras.models.Model(inputs=[input_],outputs=[output])\n"
      ],
      "execution_count": 228,
      "outputs": []
    },
    {
      "cell_type": "code",
      "metadata": {
        "colab": {
          "base_uri": "https://localhost:8080/"
        },
        "id": "cnztsCwhQ5N9",
        "outputId": "fb7fa924-b5a3-4427-b232-70378fd6ab01"
      },
      "source": [
        "model.summary()"
      ],
      "execution_count": 229,
      "outputs": [
        {
          "output_type": "stream",
          "text": [
            "Model: \"model\"\n",
            "__________________________________________________________________________________________________\n",
            "Layer (type)                    Output Shape         Param #     Connected to                     \n",
            "==================================================================================================\n",
            "input_1 (InputLayer)            [(None, 8)]          0                                            \n",
            "__________________________________________________________________________________________________\n",
            "dense (Dense)                   (None, 50)           450         input_1[0][0]                    \n",
            "__________________________________________________________________________________________________\n",
            "dense_1 (Dense)                 (None, 50)           2550        dense[0][0]                      \n",
            "__________________________________________________________________________________________________\n",
            "concatenate (Concatenate)       (None, 58)           0           input_1[0][0]                    \n",
            "                                                                 dense_1[0][0]                    \n",
            "__________________________________________________________________________________________________\n",
            "dense_2 (Dense)                 (None, 1)            59          concatenate[0][0]                \n",
            "==================================================================================================\n",
            "Total params: 3,059\n",
            "Trainable params: 3,059\n",
            "Non-trainable params: 0\n",
            "__________________________________________________________________________________________________\n"
          ],
          "name": "stdout"
        }
      ]
    },
    {
      "cell_type": "code",
      "metadata": {
        "id": "pfWFq94OQ5Qg"
      },
      "source": [
        "model.compile(loss=\"mean_squared_error\",\n",
        "              optimizer=keras.optimizers.Adam(learning_rate=1e-3),\n",
        "              metrics=['mae'])"
      ],
      "execution_count": 230,
      "outputs": []
    },
    {
      "cell_type": "code",
      "metadata": {
        "colab": {
          "base_uri": "https://localhost:8080/"
        },
        "id": "Jnz5_hIhQ5T7",
        "outputId": "20c99d6d-958a-4f52-f339-c2ba251fb82e"
      },
      "source": [
        "mhistory=model.fit(X_train,y_train,epochs=48,validation_data=(X_valid,y_valid))"
      ],
      "execution_count": null,
      "outputs": [
        {
          "output_type": "stream",
          "text": [
            "Epoch 1/48\n",
            "363/363 [==============================] - 1s 2ms/step - loss: 1.1004 - mae: 0.6823 - val_loss: 0.4257 - val_mae: 0.4671\n",
            "Epoch 2/48\n",
            "363/363 [==============================] - 1s 2ms/step - loss: 0.4327 - mae: 0.4655 - val_loss: 0.3863 - val_mae: 0.4553\n",
            "Epoch 3/48\n",
            "363/363 [==============================] - 1s 2ms/step - loss: 0.3975 - mae: 0.4483 - val_loss: 0.3531 - val_mae: 0.4234\n",
            "Epoch 4/48\n",
            "363/363 [==============================] - 1s 2ms/step - loss: 0.3807 - mae: 0.4397 - val_loss: 0.3521 - val_mae: 0.4215\n",
            "Epoch 5/48\n",
            "363/363 [==============================] - 1s 2ms/step - loss: 0.3712 - mae: 0.4309 - val_loss: 0.3408 - val_mae: 0.4137\n",
            "Epoch 6/48\n",
            "363/363 [==============================] - 1s 2ms/step - loss: 0.3591 - mae: 0.4249 - val_loss: 0.3292 - val_mae: 0.3972\n",
            "Epoch 7/48\n",
            "363/363 [==============================] - 1s 2ms/step - loss: 0.3531 - mae: 0.4197 - val_loss: 0.3216 - val_mae: 0.4039\n",
            "Epoch 8/48\n",
            "363/363 [==============================] - 1s 2ms/step - loss: 0.3479 - mae: 0.4136 - val_loss: 0.3279 - val_mae: 0.3940\n",
            "Epoch 9/48\n",
            "363/363 [==============================] - 1s 2ms/step - loss: 0.3512 - mae: 0.4123 - val_loss: 0.3268 - val_mae: 0.3968\n",
            "Epoch 10/48\n",
            "363/363 [==============================] - 1s 2ms/step - loss: 0.3520 - mae: 0.4059 - val_loss: 0.3039 - val_mae: 0.3786\n",
            "Epoch 11/48\n",
            "363/363 [==============================] - 1s 2ms/step - loss: 0.3251 - mae: 0.3989 - val_loss: 0.2996 - val_mae: 0.3763\n",
            "Epoch 12/48\n",
            "363/363 [==============================] - 1s 2ms/step - loss: 0.3217 - mae: 0.3948 - val_loss: 0.3042 - val_mae: 0.3819\n",
            "Epoch 13/48\n",
            "363/363 [==============================] - 1s 2ms/step - loss: 0.3749 - mae: 0.3976 - val_loss: 0.2979 - val_mae: 0.3747\n",
            "Epoch 14/48\n",
            "363/363 [==============================] - 1s 2ms/step - loss: 0.3100 - mae: 0.3885 - val_loss: 0.2970 - val_mae: 0.3881\n",
            "Epoch 15/48\n",
            "363/363 [==============================] - 1s 2ms/step - loss: 0.3103 - mae: 0.3886 - val_loss: 0.2977 - val_mae: 0.3835\n",
            "Epoch 16/48\n",
            "363/363 [==============================] - 1s 2ms/step - loss: 0.3048 - mae: 0.3861 - val_loss: 0.2990 - val_mae: 0.3883\n",
            "Epoch 17/48\n",
            "363/363 [==============================] - 1s 2ms/step - loss: 0.2989 - mae: 0.3811 - val_loss: 0.2891 - val_mae: 0.3672\n",
            "Epoch 18/48\n",
            "363/363 [==============================] - 1s 2ms/step - loss: 0.3015 - mae: 0.3840 - val_loss: 0.2995 - val_mae: 0.3756\n",
            "Epoch 19/48\n",
            "363/363 [==============================] - 1s 2ms/step - loss: 0.2961 - mae: 0.3806 - val_loss: 0.2901 - val_mae: 0.3700\n",
            "Epoch 20/48\n",
            "363/363 [==============================] - 1s 2ms/step - loss: 0.3013 - mae: 0.3830 - val_loss: 0.2918 - val_mae: 0.3819\n",
            "Epoch 21/48\n",
            "363/363 [==============================] - 1s 2ms/step - loss: 0.3112 - mae: 0.3828 - val_loss: 0.2858 - val_mae: 0.3615\n",
            "Epoch 22/48\n",
            "363/363 [==============================] - 1s 2ms/step - loss: 0.2912 - mae: 0.3767 - val_loss: 0.2860 - val_mae: 0.3766\n",
            "Epoch 23/48\n",
            "363/363 [==============================] - 1s 2ms/step - loss: 0.2910 - mae: 0.3758 - val_loss: 0.2838 - val_mae: 0.3640\n",
            "Epoch 24/48\n",
            "363/363 [==============================] - 1s 2ms/step - loss: 0.2994 - mae: 0.3774 - val_loss: 0.2889 - val_mae: 0.3645\n",
            "Epoch 25/48\n",
            "363/363 [==============================] - 1s 2ms/step - loss: 0.2907 - mae: 0.3751 - val_loss: 0.2820 - val_mae: 0.3606\n",
            "Epoch 26/48\n",
            "363/363 [==============================] - 1s 2ms/step - loss: 0.2891 - mae: 0.3747 - val_loss: 0.2943 - val_mae: 0.3746\n",
            "Epoch 27/48\n",
            "363/363 [==============================] - 1s 2ms/step - loss: 0.2877 - mae: 0.3716 - val_loss: 0.3023 - val_mae: 0.3970\n",
            "Epoch 28/48\n",
            "363/363 [==============================] - 1s 2ms/step - loss: 0.2900 - mae: 0.3719 - val_loss: 0.2871 - val_mae: 0.3737\n",
            "Epoch 29/48\n",
            "363/363 [==============================] - 1s 2ms/step - loss: 0.2777 - mae: 0.3663 - val_loss: 0.2777 - val_mae: 0.3589\n",
            "Epoch 30/48\n",
            "363/363 [==============================] - 1s 2ms/step - loss: 0.2893 - mae: 0.3704 - val_loss: 0.2731 - val_mae: 0.3548\n",
            "Epoch 31/48\n",
            "363/363 [==============================] - 1s 2ms/step - loss: 0.2780 - mae: 0.3665 - val_loss: 0.2749 - val_mae: 0.3537\n",
            "Epoch 32/48\n",
            "363/363 [==============================] - 1s 2ms/step - loss: 0.2769 - mae: 0.3644 - val_loss: 0.2775 - val_mae: 0.3596\n",
            "Epoch 33/48\n",
            "363/363 [==============================] - 1s 2ms/step - loss: 0.2844 - mae: 0.3667 - val_loss: 0.2761 - val_mae: 0.3499\n",
            "Epoch 34/48\n",
            "363/363 [==============================] - 1s 2ms/step - loss: 0.2777 - mae: 0.3639 - val_loss: 0.2794 - val_mae: 0.3556\n",
            "Epoch 35/48\n",
            "363/363 [==============================] - 1s 2ms/step - loss: 0.2736 - mae: 0.3611 - val_loss: 0.2799 - val_mae: 0.3577\n",
            "Epoch 36/48\n",
            "363/363 [==============================] - 1s 2ms/step - loss: 0.2747 - mae: 0.3600 - val_loss: 0.2952 - val_mae: 0.3801\n",
            "Epoch 37/48\n",
            "363/363 [==============================] - 1s 2ms/step - loss: 0.2737 - mae: 0.3613 - val_loss: 0.2930 - val_mae: 0.3818\n",
            "Epoch 38/48\n",
            "363/363 [==============================] - 1s 2ms/step - loss: 0.2687 - mae: 0.3578 - val_loss: 0.2940 - val_mae: 0.3798\n",
            "Epoch 39/48\n",
            "363/363 [==============================] - 1s 2ms/step - loss: 0.2733 - mae: 0.3614 - val_loss: 0.2790 - val_mae: 0.3518\n",
            "Epoch 40/48\n",
            "363/363 [==============================] - 1s 2ms/step - loss: 0.2689 - mae: 0.3582 - val_loss: 0.2953 - val_mae: 0.3858\n",
            "Epoch 41/48\n",
            "363/363 [==============================] - 1s 2ms/step - loss: 0.2662 - mae: 0.3568 - val_loss: 0.2792 - val_mae: 0.3559\n",
            "Epoch 42/48\n",
            "363/363 [==============================] - 1s 2ms/step - loss: 0.2652 - mae: 0.3548 - val_loss: 0.2783 - val_mae: 0.3599\n",
            "Epoch 43/48\n",
            "363/363 [==============================] - 1s 2ms/step - loss: 0.2694 - mae: 0.3571 - val_loss: 0.2751 - val_mae: 0.3485\n",
            "Epoch 44/48\n",
            "363/363 [==============================] - 1s 2ms/step - loss: 0.2625 - mae: 0.3528 - val_loss: 0.2741 - val_mae: 0.3576\n",
            "Epoch 45/48\n",
            "363/363 [==============================] - 1s 2ms/step - loss: 0.2634 - mae: 0.3539 - val_loss: 0.2787 - val_mae: 0.3507\n",
            "Epoch 46/48\n",
            "363/363 [==============================] - 1s 2ms/step - loss: 0.2630 - mae: 0.3540 - val_loss: 0.2810 - val_mae: 0.3524\n",
            "Epoch 47/48\n",
            "363/363 [==============================] - 1s 2ms/step - loss: 0.2616 - mae: 0.3517 - val_loss: 0.2734 - val_mae: 0.3547\n",
            "Epoch 48/48\n",
            "363/363 [==============================] - 1s 2ms/step - loss: 0.2599 - mae: 0.3524 - val_loss: 0.2702 - val_mae: 0.3516\n"
          ],
          "name": "stdout"
        }
      ]
    },
    {
      "cell_type": "code",
      "metadata": {
        "id": "1WYj9zbHQ5V7"
      },
      "source": [
        "mae_test=model.evaluate(X_test,y_test)\n",
        "mae_test"
      ],
      "execution_count": null,
      "outputs": []
    },
    {
      "cell_type": "code",
      "metadata": {
        "id": "bKBWLk1PTpPZ"
      },
      "source": [
        "pd.DataFrame(mhistory.history).plot(figsize=(8,5))\n",
        "plt.gca().set_ylim(0,1)\n",
        "plt.grid(True)\n",
        "plt.show()"
      ],
      "execution_count": null,
      "outputs": []
    },
    {
      "cell_type": "code",
      "metadata": {
        "id": "TobNkEZbT8aM"
      },
      "source": [
        "\n",
        "X_new=X_test[5:10]\n",
        "ypred=model.predict(X_new)\n",
        "print(ypred)\n",
        "print(y_test[5:10])"
      ],
      "execution_count": null,
      "outputs": []
    },
    {
      "cell_type": "code",
      "metadata": {
        "id": "vOSRLSe0UiyQ"
      },
      "source": [
        "model.save(\"func_model.h5\")"
      ],
      "execution_count": null,
      "outputs": []
    },
    {
      "cell_type": "code",
      "metadata": {
        "id": "Is0PH0sfUtZN"
      },
      "source": [
        "#model=keras.models.load_model('func_model.h5')\n",
        "#keras.callbacks.ModelCheckpoint('model.h5', save_best_only=True)"
      ],
      "execution_count": null,
      "outputs": []
    },
    {
      "cell_type": "code",
      "metadata": {
        "id": "zwFA012cVRVf"
      },
      "source": [
        ""
      ],
      "execution_count": null,
      "outputs": []
    }
  ]
}