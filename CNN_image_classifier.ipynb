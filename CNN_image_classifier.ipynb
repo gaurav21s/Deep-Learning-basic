{
  "nbformat": 4,
  "nbformat_minor": 0,
  "metadata": {
    "colab": {
      "name": "CNN image classifier.ipynb",
      "provenance": [],
      "collapsed_sections": [],
      "authorship_tag": "ABX9TyOZrIbcx8/yZuMXe5qtSGKt",
      "include_colab_link": true
    },
    "kernelspec": {
      "name": "python3",
      "display_name": "Python 3"
    },
    "language_info": {
      "name": "python"
    },
    "accelerator": "GPU"
  },
  "cells": [
    {
      "cell_type": "markdown",
      "metadata": {
        "id": "view-in-github",
        "colab_type": "text"
      },
      "source": [
        "<a href=\"https://colab.research.google.com/github/gaurav21s/deep-learning-basic/blob/main/CNN_image_classifier.ipynb\" target=\"_parent\"><img src=\"https://colab.research.google.com/assets/colab-badge.svg\" alt=\"Open In Colab\"/></a>"
      ]
    },
    {
      "cell_type": "code",
      "metadata": {
        "id": "m1XpmYoQe_Yy"
      },
      "source": [
        "import numpy as np\n",
        "import pandas as pd\n",
        "import matplotlib as mlp\n",
        "import matplotlib.pyplot as plt\n",
        "%matplotlib inline"
      ],
      "execution_count": 1,
      "outputs": []
    },
    {
      "cell_type": "code",
      "metadata": {
        "id": "BkS3NG7kfO1b"
      },
      "source": [
        "import tensorflow as tf\n",
        "from tensorflow import keras"
      ],
      "execution_count": 2,
      "outputs": []
    },
    {
      "cell_type": "code",
      "metadata": {
        "colab": {
          "base_uri": "https://localhost:8080/"
        },
        "id": "ushvgVaCfOzA",
        "outputId": "eb60833b-c361-4de4-88e0-a7f8265072a5"
      },
      "source": [
        "fm = keras.datasets.fashion_mnist\n",
        "(X_train_full,y_train_full),(X_test,y_test)= fm.load_data()"
      ],
      "execution_count": 3,
      "outputs": [
        {
          "output_type": "stream",
          "name": "stdout",
          "text": [
            "Downloading data from https://storage.googleapis.com/tensorflow/tf-keras-datasets/train-labels-idx1-ubyte.gz\n",
            "32768/29515 [=================================] - 0s 0us/step\n",
            "40960/29515 [=========================================] - 0s 0us/step\n",
            "Downloading data from https://storage.googleapis.com/tensorflow/tf-keras-datasets/train-images-idx3-ubyte.gz\n",
            "26427392/26421880 [==============================] - 0s 0us/step\n",
            "26435584/26421880 [==============================] - 0s 0us/step\n",
            "Downloading data from https://storage.googleapis.com/tensorflow/tf-keras-datasets/t10k-labels-idx1-ubyte.gz\n",
            "16384/5148 [===============================================================================================] - 0s 0us/step\n",
            "Downloading data from https://storage.googleapis.com/tensorflow/tf-keras-datasets/t10k-images-idx3-ubyte.gz\n",
            "4423680/4422102 [==============================] - 0s 0us/step\n",
            "4431872/4422102 [==============================] - 0s 0us/step\n"
          ]
        }
      ]
    },
    {
      "cell_type": "code",
      "metadata": {
        "id": "gRhfkUNrfOwi"
      },
      "source": [
        "class_names=['Tshirt','Trouser','Pullover','Dress','Coat','Sandal','Shirt','Sneaker','Bag','Ankle Boot']"
      ],
      "execution_count": 4,
      "outputs": []
    },
    {
      "cell_type": "code",
      "metadata": {
        "id": "5UvOyaJ5fOt6"
      },
      "source": [
        " X_train_full=X_train_full.reshape((60000,28,28,1))\n",
        " X_test=X_test.reshape((10000,28,28,1))"
      ],
      "execution_count": 5,
      "outputs": []
    },
    {
      "cell_type": "code",
      "metadata": {
        "id": "P-KRGKPBfOrZ"
      },
      "source": [
        "X_train_n=X_train_full/255\n",
        "X_test_n=X_test/255"
      ],
      "execution_count": 6,
      "outputs": []
    },
    {
      "cell_type": "code",
      "metadata": {
        "id": "n38q96NwfOop"
      },
      "source": [
        "X_valid,X_train=X_train_n[:5000],X_train_n[5000:]\n",
        "y_valid,y_train=y_train_full[:5000],y_train_full[5000:]\n",
        "X_test=X_test_n\n"
      ],
      "execution_count": 7,
      "outputs": []
    },
    {
      "cell_type": "code",
      "metadata": {
        "id": "w3MRzHy8fOjA"
      },
      "source": [
        "np.random.seed(42)\n",
        "tf.random.set_seed(42)\n"
      ],
      "execution_count": 8,
      "outputs": []
    },
    {
      "cell_type": "code",
      "metadata": {
        "id": "oh1mw5E0fOgJ"
      },
      "source": [
        "model = keras.models.Sequential()\n",
        "model.add(keras.layers.Conv2D(filters=32,kernel_size=(3,3),strides=1,padding='valid',activation='relu',input_shape=(28,28,1)))\n",
        "model.add(keras.layers.MaxPooling2D((2,2)))\n",
        "\n",
        "model.add(keras.layers.Flatten())\n",
        "model.add(keras.layers.Dense(500,activation=\"relu\"))\n",
        "model.add(keras.layers.Dense(350,activation=\"relu\"))\n",
        "model.add(keras.layers.Dense(150,activation=\"relu\"))\n",
        "model.add(keras.layers.Dense(10,activation=\"softmax\"))"
      ],
      "execution_count": 9,
      "outputs": []
    },
    {
      "cell_type": "code",
      "metadata": {
        "colab": {
          "base_uri": "https://localhost:8080/"
        },
        "id": "LgQPN7w6fOdh",
        "outputId": "71ba492a-328b-4e6e-93e3-d5a7c55553a9"
      },
      "source": [
        "model.summary()"
      ],
      "execution_count": 10,
      "outputs": [
        {
          "output_type": "stream",
          "name": "stdout",
          "text": [
            "Model: \"sequential\"\n",
            "_________________________________________________________________\n",
            "Layer (type)                 Output Shape              Param #   \n",
            "=================================================================\n",
            "conv2d (Conv2D)              (None, 26, 26, 32)        320       \n",
            "_________________________________________________________________\n",
            "max_pooling2d (MaxPooling2D) (None, 13, 13, 32)        0         \n",
            "_________________________________________________________________\n",
            "flatten (Flatten)            (None, 5408)              0         \n",
            "_________________________________________________________________\n",
            "dense (Dense)                (None, 500)               2704500   \n",
            "_________________________________________________________________\n",
            "dense_1 (Dense)              (None, 350)               175350    \n",
            "_________________________________________________________________\n",
            "dense_2 (Dense)              (None, 150)               52650     \n",
            "_________________________________________________________________\n",
            "dense_3 (Dense)              (None, 10)                1510      \n",
            "=================================================================\n",
            "Total params: 2,934,330\n",
            "Trainable params: 2,934,330\n",
            "Non-trainable params: 0\n",
            "_________________________________________________________________\n"
          ]
        }
      ]
    },
    {
      "cell_type": "code",
      "metadata": {
        "colab": {
          "base_uri": "https://localhost:8080/",
          "height": 758
        },
        "id": "ghuUf_XeiSno",
        "outputId": "0c248ab4-2e55-43e9-e3cc-4cd6412ab14a"
      },
      "source": [
        "import pydot\n",
        "keras.utils.plot_model(model)\n"
      ],
      "execution_count": 11,
      "outputs": [
        {
          "output_type": "execute_result",
          "data": {
            "image/png": "[encoded data removed]",
            "text/plain": [
              "<IPython.core.display.Image object>"
            ]
          },
          "metadata": {},
          "execution_count": 11
        }
      ]
    },
    {
      "cell_type": "code",
      "metadata": {
        "id": "VfS53ESniTK-"
      },
      "source": [
        "model.compile(loss=\"sparse_categorical_crossentropy\",\n",
        "              optimizer='sgd',\n",
        "              metrics=['accuracy'])"
      ],
      "execution_count": 12,
      "outputs": []
    },
    {
      "cell_type": "code",
      "metadata": {
        "colab": {
          "base_uri": "https://localhost:8080/"
        },
        "id": "eccgAmkxiTOF",
        "outputId": "d02e4121-fa85-463e-ff15-d39f7499272f"
      },
      "source": [
        "history=model.fit(X_train,y_train,epochs=20,batch_size=64,\n",
        "                  validation_data=(X_valid,y_valid))"
      ],
      "execution_count": 26,
      "outputs": [
        {
          "output_type": "stream",
          "name": "stdout",
          "text": [
            "Epoch 1/20\n",
            "860/860 [==============================] - 6s 7ms/step - loss: 0.2385 - accuracy: 0.9125 - val_loss: 0.3071 - val_accuracy: 0.8874\n",
            "Epoch 2/20\n",
            "860/860 [==============================] - 6s 7ms/step - loss: 0.2330 - accuracy: 0.9142 - val_loss: 0.2809 - val_accuracy: 0.8978\n",
            "Epoch 3/20\n",
            "860/860 [==============================] - 6s 7ms/step - loss: 0.2280 - accuracy: 0.9157 - val_loss: 0.5070 - val_accuracy: 0.8212\n",
            "Epoch 4/20\n",
            "860/860 [==============================] - 6s 7ms/step - loss: 0.2226 - accuracy: 0.9189 - val_loss: 0.2984 - val_accuracy: 0.8894\n",
            "Epoch 5/20\n",
            "860/860 [==============================] - 6s 7ms/step - loss: 0.2192 - accuracy: 0.9195 - val_loss: 0.2634 - val_accuracy: 0.9056\n",
            "Epoch 6/20\n",
            "860/860 [==============================] - 6s 7ms/step - loss: 0.2117 - accuracy: 0.9227 - val_loss: 0.2604 - val_accuracy: 0.9032\n",
            "Epoch 7/20\n",
            "860/860 [==============================] - 6s 7ms/step - loss: 0.2075 - accuracy: 0.9236 - val_loss: 0.2866 - val_accuracy: 0.8986\n",
            "Epoch 8/20\n",
            "860/860 [==============================] - 6s 7ms/step - loss: 0.2030 - accuracy: 0.9255 - val_loss: 0.3009 - val_accuracy: 0.8892\n",
            "Epoch 9/20\n",
            "860/860 [==============================] - 6s 7ms/step - loss: 0.1976 - accuracy: 0.9271 - val_loss: 0.2663 - val_accuracy: 0.9022\n",
            "Epoch 10/20\n",
            "860/860 [==============================] - 6s 7ms/step - loss: 0.1928 - accuracy: 0.9291 - val_loss: 0.2616 - val_accuracy: 0.9066\n",
            "Epoch 11/20\n",
            "860/860 [==============================] - 6s 7ms/step - loss: 0.1886 - accuracy: 0.9302 - val_loss: 0.2515 - val_accuracy: 0.9100\n",
            "Epoch 12/20\n",
            "860/860 [==============================] - 6s 7ms/step - loss: 0.1832 - accuracy: 0.9325 - val_loss: 0.2473 - val_accuracy: 0.9096\n",
            "Epoch 13/20\n",
            "860/860 [==============================] - 6s 7ms/step - loss: 0.1798 - accuracy: 0.9349 - val_loss: 0.2871 - val_accuracy: 0.8980\n",
            "Epoch 14/20\n",
            "860/860 [==============================] - 6s 7ms/step - loss: 0.1762 - accuracy: 0.9355 - val_loss: 0.2866 - val_accuracy: 0.8922\n",
            "Epoch 15/20\n",
            "860/860 [==============================] - 6s 7ms/step - loss: 0.1706 - accuracy: 0.9376 - val_loss: 0.2909 - val_accuracy: 0.8984\n",
            "Epoch 16/20\n",
            "860/860 [==============================] - 6s 7ms/step - loss: 0.1665 - accuracy: 0.9401 - val_loss: 0.2459 - val_accuracy: 0.9100\n",
            "Epoch 17/20\n",
            "860/860 [==============================] - 6s 7ms/step - loss: 0.1613 - accuracy: 0.9416 - val_loss: 0.3245 - val_accuracy: 0.8892\n",
            "Epoch 18/20\n",
            "860/860 [==============================] - 6s 7ms/step - loss: 0.1585 - accuracy: 0.9418 - val_loss: 0.3004 - val_accuracy: 0.9004\n",
            "Epoch 19/20\n",
            "860/860 [==============================] - 6s 7ms/step - loss: 0.1536 - accuracy: 0.9447 - val_loss: 0.2731 - val_accuracy: 0.9044\n",
            "Epoch 20/20\n",
            "860/860 [==============================] - 6s 7ms/step - loss: 0.1499 - accuracy: 0.9457 - val_loss: 0.2750 - val_accuracy: 0.9004\n"
          ]
        }
      ]
    },
    {
      "cell_type": "code",
      "metadata": {
        "colab": {
          "base_uri": "https://localhost:8080/",
          "height": 596
        },
        "id": "BTcgIsqSiTTV",
        "outputId": "30cfbf35-dfdb-4754-cd15-3854628f9c4f"
      },
      "source": [
        "import pandas as pd\n",
        "\n",
        "pd.DataFrame(history.history).plot(figsize=(10,10))\n",
        "plt.grid(True)\n",
        "plt.gca().set_ylim(0,1)\n",
        "plt.show()"
      ],
      "execution_count": 27,
      "outputs": [
        {
          "output_type": "display_data",
          "data": {
            "image/png": "[encoded data removed]",
            "text/plain": [
              "<Figure size 720x720 with 1 Axes>"
            ]
          },
          "metadata": {
            "needs_background": "light"
          }
        }
      ]
    },
    {
      "cell_type": "code",
      "metadata": {
        "colab": {
          "base_uri": "https://localhost:8080/"
        },
        "id": "jpT997GfjMZg",
        "outputId": "bffc2695-8d2d-4b06-b033-bd3a782cc42e"
      },
      "source": [
        "ev = model.evaluate(X_test,y_test)"
      ],
      "execution_count": 15,
      "outputs": [
        {
          "output_type": "stream",
          "name": "stdout",
          "text": [
            "313/313 [==============================] - 1s 4ms/step - loss: 0.4103 - accuracy: 0.8437\n"
          ]
        }
      ]
    },
    {
      "cell_type": "code",
      "metadata": {
        "id": "F9RKRlQijMdX"
      },
      "source": [
        "X_new=X_test[15:22]"
      ],
      "execution_count": 16,
      "outputs": []
    },
    {
      "cell_type": "code",
      "metadata": {
        "colab": {
          "base_uri": "https://localhost:8080/"
        },
        "id": "OyqQi9HKjMgL",
        "outputId": "ee267088-70f7-46cc-b3b9-b7b85f53e0cf"
      },
      "source": [
        "yproba=model.predict(X_new)\n",
        "yproba.round(2)"
      ],
      "execution_count": 17,
      "outputs": [
        {
          "output_type": "execute_result",
          "data": {
            "text/plain": [
              "array([[0.  , 1.  , 0.  , 0.  , 0.  , 0.  , 0.  , 0.  , 0.  , 0.  ],\n",
              "       [0.02, 0.  , 0.96, 0.  , 0.  , 0.  , 0.01, 0.  , 0.  , 0.  ],\n",
              "       [0.  , 0.  , 0.45, 0.  , 0.24, 0.  , 0.31, 0.  , 0.  , 0.  ],\n",
              "       [0.  , 0.  , 0.  , 0.  , 0.  , 0.  , 0.  , 0.  , 0.99, 0.  ],\n",
              "       [0.93, 0.  , 0.  , 0.  , 0.  , 0.  , 0.07, 0.  , 0.  , 0.  ],\n",
              "       [0.14, 0.  , 0.7 , 0.01, 0.  , 0.  , 0.15, 0.  , 0.01, 0.  ],\n",
              "       [0.  , 0.  , 0.  , 0.  , 0.  , 0.69, 0.  , 0.27, 0.  , 0.03]],\n",
              "      dtype=float32)"
            ]
          },
          "metadata": {},
          "execution_count": 17
        }
      ]
    },
    {
      "cell_type": "code",
      "metadata": {
        "colab": {
          "base_uri": "https://localhost:8080/"
        },
        "id": "Td2rzsREjMi6",
        "outputId": "8a05ad4a-03cc-4b8c-8a4f-a25c1a55e702"
      },
      "source": [
        "classes=np.argmax(yproba,axis=1)\n",
        "np.array(class_names)[classes]"
      ],
      "execution_count": 20,
      "outputs": [
        {
          "output_type": "execute_result",
          "data": {
            "text/plain": [
              "array(['Trouser', 'Pullover', 'Pullover', 'Bag', 'Tshirt', 'Pullover',\n",
              "       'Sandal'], dtype='<U10')"
            ]
          },
          "metadata": {},
          "execution_count": 20
        }
      ]
    },
    {
      "cell_type": "code",
      "metadata": {
        "colab": {
          "base_uri": "https://localhost:8080/",
          "height": 282
        },
        "id": "BmH5qdADjMmc",
        "outputId": "bf7274b6-cc73-4167-af03-4689a35de39f"
      },
      "source": [
        "print(plt.imshow(X_test[15].reshape((28,28))))"
      ],
      "execution_count": 22,
      "outputs": [
        {
          "output_type": "stream",
          "name": "stdout",
          "text": [
            "AxesImage(54,36;334.8x217.44)\n"
          ]
        },
        {
          "output_type": "display_data",
          "data": {
            "image/png": "[encoded data removed]",
            "text/plain": [
              "<Figure size 432x288 with 1 Axes>"
            ]
          },
          "metadata": {
            "needs_background": "light"
          }
        }
      ]
    },
    {
      "cell_type": "code",
      "metadata": {
        "id": "sfvfPS5ejMpn"
      },
      "source": [
        ""
      ],
      "execution_count": null,
      "outputs": []
    }
  ]
}