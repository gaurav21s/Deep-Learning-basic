{
  "nbformat": 4,
  "nbformat_minor": 0,
  "metadata": {
    "colab": {
      "name": "Image Classifier.ipynb",
      "provenance": [],
      "authorship_tag": "ABX9TyPWY2IbSIBP3Hn941+EOmfK",
      "include_colab_link": true
    },
    "kernelspec": {
      "name": "python3",
      "display_name": "Python 3"
    },
    "language_info": {
      "name": "python"
    },
    "accelerator": "GPU"
  },
  "cells": [
    {
      "cell_type": "markdown",
      "metadata": {
        "id": "view-in-github",
        "colab_type": "text"
      },
      "source": [
        "<a href=\"https://colab.research.google.com/github/gaurav21s/deep-learning-basic/blob/main/Image_Classifier.ipynb\" target=\"_parent\"><img src=\"https://colab.research.google.com/assets/colab-badge.svg\" alt=\"Open In Colab\"/></a>"
      ]
    },
    {
      "cell_type": "code",
      "metadata": {
        "id": "wTWWPVL9hMCw"
      },
      "source": [
        "import numpy as np\n",
        "import pandas as pd\n",
        "import matplotlib as mlp\n",
        "import matplotlib.pyplot as plt\n",
        "%matplotlib inline"
      ],
      "execution_count": 40,
      "outputs": []
    },
    {
      "cell_type": "code",
      "metadata": {
        "id": "yWwyqIJyhg0w"
      },
      "source": [
        "import tensorflow as tf\n",
        "#!pip install --upgrade tensorflow==2.0-rc1"
      ],
      "execution_count": 41,
      "outputs": []
    },
    {
      "cell_type": "code",
      "metadata": {
        "id": "9tykYzLmh2wb"
      },
      "source": [
        "from tensorflow import keras"
      ],
      "execution_count": 42,
      "outputs": []
    },
    {
      "cell_type": "code",
      "metadata": {
        "id": "sokGoA1eiGC2"
      },
      "source": [
        "fm = keras.datasets.fashion_mnist\n",
        "(X_train_full,y_train_full),(X_test,y_test)= fm.load_data()"
      ],
      "execution_count": 43,
      "outputs": []
    },
    {
      "cell_type": "code",
      "metadata": {
        "colab": {
          "base_uri": "https://localhost:8080/",
          "height": 282
        },
        "id": "H3xN-sWIjIs1",
        "outputId": "04f1222e-0a63-4c28-9666-bacf05c8ac56"
      },
      "source": [
        "plt.imshow(X_train_full[21])"
      ],
      "execution_count": 44,
      "outputs": [
        {
          "output_type": "execute_result",
          "data": {
            "text/plain": [
              "<matplotlib.image.AxesImage at 0x7f5c96228650>"
            ]
          },
          "metadata": {},
          "execution_count": 44
        },
        {
          "output_type": "display_data",
          "data": {
            "image/png": "[encoded data removed]",
            "text/plain": [
              "<Figure size 432x288 with 1 Axes>"
            ]
          },
          "metadata": {
            "needs_background": "light"
          }
        }
      ]
    },
    {
      "cell_type": "code",
      "metadata": {
        "colab": {
          "base_uri": "https://localhost:8080/"
        },
        "id": "5FHa-rRPjSOR",
        "outputId": "8c8c8352-e368-43fb-fae2-5c0d324a4cef"
      },
      "source": [
        "y_train_full[21]"
      ],
      "execution_count": 45,
      "outputs": [
        {
          "output_type": "execute_result",
          "data": {
            "text/plain": [
              "1"
            ]
          },
          "metadata": {},
          "execution_count": 45
        }
      ]
    },
    {
      "cell_type": "code",
      "metadata": {
        "id": "mc4YOBbLjXh8"
      },
      "source": [
        "class_names=['Tshirt','Trouser','Pullover','Dress','Coat','Sandal','Shirt','Sneaker','Bag','Ankle Boot']"
      ],
      "execution_count": 46,
      "outputs": []
    },
    {
      "cell_type": "code",
      "metadata": {
        "colab": {
          "base_uri": "https://localhost:8080/",
          "height": 35
        },
        "id": "zkRWwbS-j4Rx",
        "outputId": "8fcd1a90-77ca-4027-a749-73647bd6e513"
      },
      "source": [
        "class_names[y_train_full[21]]"
      ],
      "execution_count": 47,
      "outputs": [
        {
          "output_type": "execute_result",
          "data": {
            "application/vnd.google.colaboratory.intrinsic+json": {
              "type": "string"
            },
            "text/plain": [
              "'Trouser'"
            ]
          },
          "metadata": {},
          "execution_count": 47
        }
      ]
    },
    {
      "cell_type": "code",
      "metadata": {
        "id": "5LjA-JS_j87H"
      },
      "source": [
        "X_train_n=X_train_full/255.\n",
        "X_test_n=X_test/255."
      ],
      "execution_count": 48,
      "outputs": []
    },
    {
      "cell_type": "code",
      "metadata": {
        "id": "8FAt8Qenj_xL"
      },
      "source": [
        "X_valid,X_train=X_train_n[:5000],X_train_n[5000:]\n",
        "y_valid,y_train=y_train_full[:5000],y_train_full[5000:]\n",
        "X_test=X_test_n"
      ],
      "execution_count": 49,
      "outputs": []
    },
    {
      "cell_type": "code",
      "metadata": {
        "id": "v_2w9wb8j_z4"
      },
      "source": [
        "np.random.seed(21)\n",
        "tf.random.set_seed(21)\n"
      ],
      "execution_count": 50,
      "outputs": []
    },
    {
      "cell_type": "code",
      "metadata": {
        "id": "1ihf_6ONj_2m"
      },
      "source": [
        "model = keras.models.Sequential()\n",
        "model.add(keras.layers.Flatten(input_shape=[28,28]))\n",
        "model.add(keras.layers.Dense(500,activation=\"relu\"))\n",
        "model.add(keras.layers.Dense(350,activation=\"relu\"))\n",
        "model.add(keras.layers.Dense(150,activation=\"relu\"))\n",
        "model.add(keras.layers.Dense(10,activation=\"softmax\"))"
      ],
      "execution_count": 51,
      "outputs": []
    },
    {
      "cell_type": "code",
      "metadata": {
        "id": "frn-rQOLj_5Q",
        "colab": {
          "base_uri": "https://localhost:8080/"
        },
        "outputId": "79a49a5a-1f00-4fc3-c89c-7142a89e0454"
      },
      "source": [
        "model.summary()"
      ],
      "execution_count": 52,
      "outputs": [
        {
          "output_type": "stream",
          "text": [
            "Model: \"sequential_1\"\n",
            "_________________________________________________________________\n",
            "Layer (type)                 Output Shape              Param #   \n",
            "=================================================================\n",
            "flatten_1 (Flatten)          (None, 784)               0         \n",
            "_________________________________________________________________\n",
            "dense_4 (Dense)              (None, 500)               392500    \n",
            "_________________________________________________________________\n",
            "dense_5 (Dense)              (None, 350)               175350    \n",
            "_________________________________________________________________\n",
            "dense_6 (Dense)              (None, 150)               52650     \n",
            "_________________________________________________________________\n",
            "dense_7 (Dense)              (None, 10)                1510      \n",
            "=================================================================\n",
            "Total params: 622,010\n",
            "Trainable params: 622,010\n",
            "Non-trainable params: 0\n",
            "_________________________________________________________________\n"
          ],
          "name": "stdout"
        }
      ]
    },
    {
      "cell_type": "code",
      "metadata": {
        "id": "khpePTrVj_8I",
        "colab": {
          "base_uri": "https://localhost:8080/",
          "height": 564
        },
        "outputId": "c754cc6d-8f45-4d74-9f44-c906bf244439"
      },
      "source": [
        "import pydot\n",
        "keras.utils.plot_model(model)"
      ],
      "execution_count": 53,
      "outputs": [
        {
          "output_type": "execute_result",
          "data": {
            "image/png": "[encoded data removed]",
            "text/plain": [
              "<IPython.core.display.Image object>"
            ]
          },
          "metadata": {},
          "execution_count": 53
        }
      ]
    },
    {
      "cell_type": "code",
      "metadata": {
        "id": "__lnNaVaj_-U"
      },
      "source": [
        "weights, biases=model.layers[2].get_weights()"
      ],
      "execution_count": 54,
      "outputs": []
    },
    {
      "cell_type": "code",
      "metadata": {
        "colab": {
          "base_uri": "https://localhost:8080/"
        },
        "id": "SMgKlPEDKcJA",
        "outputId": "7c3b6b62-c2a9-4b67-fa28-5a65b5e7d065"
      },
      "source": [
        "weights.shape"
      ],
      "execution_count": 55,
      "outputs": [
        {
          "output_type": "execute_result",
          "data": {
            "text/plain": [
              "(500, 350)"
            ]
          },
          "metadata": {},
          "execution_count": 55
        }
      ]
    },
    {
      "cell_type": "code",
      "metadata": {
        "id": "iM3hZPbxkAA9",
        "colab": {
          "base_uri": "https://localhost:8080/"
        },
        "outputId": "b3414d19-f3d0-45ff-dae3-f673bce0f741"
      },
      "source": [
        "biases"
      ],
      "execution_count": 56,
      "outputs": [
        {
          "output_type": "execute_result",
          "data": {
            "text/plain": [
              "array([0., 0., 0., 0., 0., 0., 0., 0., 0., 0., 0., 0., 0., 0., 0., 0., 0.,\n",
              "       0., 0., 0., 0., 0., 0., 0., 0., 0., 0., 0., 0., 0., 0., 0., 0., 0.,\n",
              "       0., 0., 0., 0., 0., 0., 0., 0., 0., 0., 0., 0., 0., 0., 0., 0., 0.,\n",
              "       0., 0., 0., 0., 0., 0., 0., 0., 0., 0., 0., 0., 0., 0., 0., 0., 0.,\n",
              "       0., 0., 0., 0., 0., 0., 0., 0., 0., 0., 0., 0., 0., 0., 0., 0., 0.,\n",
              "       0., 0., 0., 0., 0., 0., 0., 0., 0., 0., 0., 0., 0., 0., 0., 0., 0.,\n",
              "       0., 0., 0., 0., 0., 0., 0., 0., 0., 0., 0., 0., 0., 0., 0., 0., 0.,\n",
              "       0., 0., 0., 0., 0., 0., 0., 0., 0., 0., 0., 0., 0., 0., 0., 0., 0.,\n",
              "       0., 0., 0., 0., 0., 0., 0., 0., 0., 0., 0., 0., 0., 0., 0., 0., 0.,\n",
              "       0., 0., 0., 0., 0., 0., 0., 0., 0., 0., 0., 0., 0., 0., 0., 0., 0.,\n",
              "       0., 0., 0., 0., 0., 0., 0., 0., 0., 0., 0., 0., 0., 0., 0., 0., 0.,\n",
              "       0., 0., 0., 0., 0., 0., 0., 0., 0., 0., 0., 0., 0., 0., 0., 0., 0.,\n",
              "       0., 0., 0., 0., 0., 0., 0., 0., 0., 0., 0., 0., 0., 0., 0., 0., 0.,\n",
              "       0., 0., 0., 0., 0., 0., 0., 0., 0., 0., 0., 0., 0., 0., 0., 0., 0.,\n",
              "       0., 0., 0., 0., 0., 0., 0., 0., 0., 0., 0., 0., 0., 0., 0., 0., 0.,\n",
              "       0., 0., 0., 0., 0., 0., 0., 0., 0., 0., 0., 0., 0., 0., 0., 0., 0.,\n",
              "       0., 0., 0., 0., 0., 0., 0., 0., 0., 0., 0., 0., 0., 0., 0., 0., 0.,\n",
              "       0., 0., 0., 0., 0., 0., 0., 0., 0., 0., 0., 0., 0., 0., 0., 0., 0.,\n",
              "       0., 0., 0., 0., 0., 0., 0., 0., 0., 0., 0., 0., 0., 0., 0., 0., 0.,\n",
              "       0., 0., 0., 0., 0., 0., 0., 0., 0., 0., 0., 0., 0., 0., 0., 0., 0.,\n",
              "       0., 0., 0., 0., 0., 0., 0., 0., 0., 0.], dtype=float32)"
            ]
          },
          "metadata": {},
          "execution_count": 56
        }
      ]
    },
    {
      "cell_type": "code",
      "metadata": {
        "id": "nE3Kj99zkAFR"
      },
      "source": [
        "model.compile(loss=\"sparse_categorical_crossentropy\",\n",
        "              optimizer='sgd',\n",
        "              metrics=['accuracy'])"
      ],
      "execution_count": 57,
      "outputs": []
    },
    {
      "cell_type": "code",
      "metadata": {
        "id": "RmVnOo9OkAIH",
        "colab": {
          "base_uri": "https://localhost:8080/"
        },
        "outputId": "7eb252a9-72a3-42fd-b616-25ba993ad506"
      },
      "source": [
        "history=model.fit(X_train,y_train,epochs=50,\n",
        "                  validation_data=(X_valid,y_valid))"
      ],
      "execution_count": 58,
      "outputs": [
        {
          "output_type": "stream",
          "text": [
            "Epoch 1/50\n",
            "1719/1719 [==============================] - 6s 4ms/step - loss: 0.7065 - accuracy: 0.7625 - val_loss: 0.4843 - val_accuracy: 0.8328\n",
            "Epoch 2/50\n",
            "1719/1719 [==============================] - 6s 3ms/step - loss: 0.4670 - accuracy: 0.8353 - val_loss: 0.4182 - val_accuracy: 0.8572\n",
            "Epoch 3/50\n",
            "1719/1719 [==============================] - 6s 3ms/step - loss: 0.4196 - accuracy: 0.8514 - val_loss: 0.3995 - val_accuracy: 0.8652\n",
            "Epoch 4/50\n",
            "1719/1719 [==============================] - 6s 3ms/step - loss: 0.3907 - accuracy: 0.8621 - val_loss: 0.4133 - val_accuracy: 0.8486\n",
            "Epoch 5/50\n",
            "1719/1719 [==============================] - 6s 3ms/step - loss: 0.3705 - accuracy: 0.8673 - val_loss: 0.3675 - val_accuracy: 0.8712\n",
            "Epoch 6/50\n",
            "1719/1719 [==============================] - 6s 3ms/step - loss: 0.3530 - accuracy: 0.8723 - val_loss: 0.3794 - val_accuracy: 0.8650\n",
            "Epoch 7/50\n",
            "1719/1719 [==============================] - 6s 3ms/step - loss: 0.3379 - accuracy: 0.8790 - val_loss: 0.3706 - val_accuracy: 0.8658\n",
            "Epoch 8/50\n",
            "1719/1719 [==============================] - 6s 3ms/step - loss: 0.3256 - accuracy: 0.8823 - val_loss: 0.3440 - val_accuracy: 0.8770\n",
            "Epoch 9/50\n",
            "1719/1719 [==============================] - 6s 3ms/step - loss: 0.3147 - accuracy: 0.8865 - val_loss: 0.3394 - val_accuracy: 0.8752\n",
            "Epoch 10/50\n",
            "1719/1719 [==============================] - 6s 3ms/step - loss: 0.3060 - accuracy: 0.8895 - val_loss: 0.3335 - val_accuracy: 0.8738\n",
            "Epoch 11/50\n",
            "1719/1719 [==============================] - 6s 3ms/step - loss: 0.2957 - accuracy: 0.8913 - val_loss: 0.3167 - val_accuracy: 0.8844\n",
            "Epoch 12/50\n",
            "1719/1719 [==============================] - 6s 3ms/step - loss: 0.2869 - accuracy: 0.8950 - val_loss: 0.3626 - val_accuracy: 0.8690\n",
            "Epoch 13/50\n",
            "1719/1719 [==============================] - 6s 3ms/step - loss: 0.2777 - accuracy: 0.8983 - val_loss: 0.3075 - val_accuracy: 0.8888\n",
            "Epoch 14/50\n",
            "1719/1719 [==============================] - 6s 3ms/step - loss: 0.2711 - accuracy: 0.9013 - val_loss: 0.3500 - val_accuracy: 0.8738\n",
            "Epoch 15/50\n",
            "1719/1719 [==============================] - 6s 3ms/step - loss: 0.2640 - accuracy: 0.9024 - val_loss: 0.3013 - val_accuracy: 0.8906\n",
            "Epoch 16/50\n",
            "1719/1719 [==============================] - 6s 3ms/step - loss: 0.2573 - accuracy: 0.9055 - val_loss: 0.2967 - val_accuracy: 0.8926\n",
            "Epoch 17/50\n",
            "1719/1719 [==============================] - 6s 3ms/step - loss: 0.2511 - accuracy: 0.9083 - val_loss: 0.2991 - val_accuracy: 0.8906\n",
            "Epoch 18/50\n",
            "1719/1719 [==============================] - 6s 3ms/step - loss: 0.2433 - accuracy: 0.9105 - val_loss: 0.3139 - val_accuracy: 0.8824\n",
            "Epoch 19/50\n",
            "1719/1719 [==============================] - 6s 3ms/step - loss: 0.2374 - accuracy: 0.9124 - val_loss: 0.2978 - val_accuracy: 0.8908\n",
            "Epoch 20/50\n",
            "1719/1719 [==============================] - 6s 3ms/step - loss: 0.2315 - accuracy: 0.9161 - val_loss: 0.2875 - val_accuracy: 0.8934\n",
            "Epoch 21/50\n",
            "1719/1719 [==============================] - 6s 3ms/step - loss: 0.2260 - accuracy: 0.9163 - val_loss: 0.3004 - val_accuracy: 0.8874\n",
            "Epoch 22/50\n",
            "1719/1719 [==============================] - 6s 3ms/step - loss: 0.2217 - accuracy: 0.9187 - val_loss: 0.2880 - val_accuracy: 0.8958\n",
            "Epoch 23/50\n",
            "1719/1719 [==============================] - 6s 3ms/step - loss: 0.2152 - accuracy: 0.9216 - val_loss: 0.2888 - val_accuracy: 0.8946\n",
            "Epoch 24/50\n",
            "1719/1719 [==============================] - 6s 3ms/step - loss: 0.2089 - accuracy: 0.9235 - val_loss: 0.2895 - val_accuracy: 0.8962\n",
            "Epoch 25/50\n",
            "1719/1719 [==============================] - 6s 3ms/step - loss: 0.2059 - accuracy: 0.9257 - val_loss: 0.2940 - val_accuracy: 0.8900\n",
            "Epoch 26/50\n",
            "1719/1719 [==============================] - 6s 3ms/step - loss: 0.2002 - accuracy: 0.9264 - val_loss: 0.3148 - val_accuracy: 0.8832\n",
            "Epoch 27/50\n",
            "1719/1719 [==============================] - 6s 3ms/step - loss: 0.1970 - accuracy: 0.9287 - val_loss: 0.2884 - val_accuracy: 0.8922\n",
            "Epoch 28/50\n",
            "1719/1719 [==============================] - 6s 3ms/step - loss: 0.1913 - accuracy: 0.9310 - val_loss: 0.2934 - val_accuracy: 0.8936\n",
            "Epoch 29/50\n",
            "1719/1719 [==============================] - 6s 3ms/step - loss: 0.1867 - accuracy: 0.9322 - val_loss: 0.2925 - val_accuracy: 0.8910\n",
            "Epoch 30/50\n",
            "1719/1719 [==============================] - 6s 3ms/step - loss: 0.1815 - accuracy: 0.9334 - val_loss: 0.3010 - val_accuracy: 0.8892\n",
            "Epoch 31/50\n",
            "1719/1719 [==============================] - 6s 3ms/step - loss: 0.1777 - accuracy: 0.9354 - val_loss: 0.2842 - val_accuracy: 0.8962\n",
            "Epoch 32/50\n",
            "1719/1719 [==============================] - 6s 3ms/step - loss: 0.1736 - accuracy: 0.9373 - val_loss: 0.3008 - val_accuracy: 0.8906\n",
            "Epoch 33/50\n",
            "1719/1719 [==============================] - 6s 3ms/step - loss: 0.1689 - accuracy: 0.9393 - val_loss: 0.2916 - val_accuracy: 0.8958\n",
            "Epoch 34/50\n",
            "1719/1719 [==============================] - 6s 3ms/step - loss: 0.1653 - accuracy: 0.9396 - val_loss: 0.2885 - val_accuracy: 0.8972\n",
            "Epoch 35/50\n",
            "1719/1719 [==============================] - 6s 3ms/step - loss: 0.1618 - accuracy: 0.9412 - val_loss: 0.3094 - val_accuracy: 0.8946\n",
            "Epoch 36/50\n",
            "1719/1719 [==============================] - 6s 3ms/step - loss: 0.1570 - accuracy: 0.9428 - val_loss: 0.2997 - val_accuracy: 0.8968\n",
            "Epoch 37/50\n",
            "1719/1719 [==============================] - 6s 3ms/step - loss: 0.1530 - accuracy: 0.9450 - val_loss: 0.3106 - val_accuracy: 0.8894\n",
            "Epoch 38/50\n",
            "1719/1719 [==============================] - 6s 3ms/step - loss: 0.1480 - accuracy: 0.9468 - val_loss: 0.3173 - val_accuracy: 0.8896\n",
            "Epoch 39/50\n",
            "1719/1719 [==============================] - 6s 3ms/step - loss: 0.1480 - accuracy: 0.9461 - val_loss: 0.2982 - val_accuracy: 0.8964\n",
            "Epoch 40/50\n",
            "1719/1719 [==============================] - 6s 3ms/step - loss: 0.1438 - accuracy: 0.9478 - val_loss: 0.3194 - val_accuracy: 0.8910\n",
            "Epoch 41/50\n",
            "1719/1719 [==============================] - 6s 3ms/step - loss: 0.1377 - accuracy: 0.9506 - val_loss: 0.3038 - val_accuracy: 0.8950\n",
            "Epoch 42/50\n",
            "1719/1719 [==============================] - 6s 4ms/step - loss: 0.1348 - accuracy: 0.9510 - val_loss: 0.3034 - val_accuracy: 0.8968\n",
            "Epoch 43/50\n",
            "1719/1719 [==============================] - 6s 3ms/step - loss: 0.1320 - accuracy: 0.9524 - val_loss: 0.3029 - val_accuracy: 0.8956\n",
            "Epoch 44/50\n",
            "1719/1719 [==============================] - 6s 3ms/step - loss: 0.1283 - accuracy: 0.9539 - val_loss: 0.3213 - val_accuracy: 0.8936\n",
            "Epoch 45/50\n",
            "1719/1719 [==============================] - 6s 3ms/step - loss: 0.1241 - accuracy: 0.9549 - val_loss: 0.3328 - val_accuracy: 0.8948\n",
            "Epoch 46/50\n",
            "1719/1719 [==============================] - 6s 3ms/step - loss: 0.1217 - accuracy: 0.9567 - val_loss: 0.3250 - val_accuracy: 0.8946\n",
            "Epoch 47/50\n",
            "1719/1719 [==============================] - 6s 3ms/step - loss: 0.1182 - accuracy: 0.9569 - val_loss: 0.3192 - val_accuracy: 0.8952\n",
            "Epoch 48/50\n",
            "1719/1719 [==============================] - 6s 3ms/step - loss: 0.1163 - accuracy: 0.9587 - val_loss: 0.3225 - val_accuracy: 0.8940\n",
            "Epoch 49/50\n",
            "1719/1719 [==============================] - 6s 4ms/step - loss: 0.1138 - accuracy: 0.9589 - val_loss: 0.3208 - val_accuracy: 0.8980\n",
            "Epoch 50/50\n",
            "1719/1719 [==============================] - 6s 3ms/step - loss: 0.1111 - accuracy: 0.9609 - val_loss: 0.3264 - val_accuracy: 0.8932\n"
          ],
          "name": "stdout"
        }
      ]
    },
    {
      "cell_type": "code",
      "metadata": {
        "colab": {
          "base_uri": "https://localhost:8080/"
        },
        "id": "eeceKWuA8tJv",
        "outputId": "d5a21457-c29a-4e21-e937-d00af8198b08"
      },
      "source": [
        "history.params"
      ],
      "execution_count": 59,
      "outputs": [
        {
          "output_type": "execute_result",
          "data": {
            "text/plain": [
              "{'epochs': 50, 'steps': 1719, 'verbose': 1}"
            ]
          },
          "metadata": {},
          "execution_count": 59
        }
      ]
    },
    {
      "cell_type": "code",
      "metadata": {
        "colab": {
          "base_uri": "https://localhost:8080/",
          "height": 596
        },
        "id": "DahjzyDA-PW5",
        "outputId": "d47592e0-d759-4c14-a9b0-df57326ed2cf"
      },
      "source": [
        "import pandas as pd\n",
        "\n",
        "pd.DataFrame(history.history).plot(figsize=(5,10))\n",
        "plt.gca().set_ylim(0,1)\n",
        "plt.show()"
      ],
      "execution_count": 60,
      "outputs": [
        {
          "output_type": "display_data",
          "data": {
            "image/png": "[encoded data removed]",
            "text/plain": [
              "<Figure size 360x720 with 1 Axes>"
            ]
          },
          "metadata": {
            "needs_background": "light"
          }
        }
      ]
    },
    {
      "cell_type": "code",
      "metadata": {
        "colab": {
          "base_uri": "https://localhost:8080/"
        },
        "id": "sXnpIvYr-u7N",
        "outputId": "bca5aea2-1ed6-4c1f-83ef-268d8a1884a6"
      },
      "source": [
        "model.evaluate(X_test,y_test)"
      ],
      "execution_count": 61,
      "outputs": [
        {
          "output_type": "stream",
          "text": [
            "313/313 [==============================] - 1s 3ms/step - loss: 0.3497 - accuracy: 0.8879\n"
          ],
          "name": "stdout"
        },
        {
          "output_type": "execute_result",
          "data": {
            "text/plain": [
              "[0.3497471809387207, 0.8878999948501587]"
            ]
          },
          "metadata": {},
          "execution_count": 61
        }
      ]
    },
    {
      "cell_type": "code",
      "metadata": {
        "id": "NyiWQ1YC_hZi"
      },
      "source": [
        "X_new=X_test[15:22]"
      ],
      "execution_count": 74,
      "outputs": []
    },
    {
      "cell_type": "code",
      "metadata": {
        "colab": {
          "base_uri": "https://localhost:8080/"
        },
        "id": "liSst133_pVd",
        "outputId": "ec68b930-ddd6-4643-a282-a3738fde298e"
      },
      "source": [
        "yproba=model.predict(X_new)\n",
        "yproba.round(2)"
      ],
      "execution_count": 75,
      "outputs": [
        {
          "output_type": "execute_result",
          "data": {
            "text/plain": [
              "array([[0.  , 1.  , 0.  , 0.  , 0.  , 0.  , 0.  , 0.  , 0.  , 0.  ],\n",
              "       [0.  , 0.  , 1.  , 0.  , 0.  , 0.  , 0.  , 0.  , 0.  , 0.  ],\n",
              "       [0.  , 0.  , 0.97, 0.  , 0.03, 0.  , 0.  , 0.  , 0.  , 0.  ],\n",
              "       [0.  , 0.  , 0.  , 0.  , 0.  , 0.  , 0.  , 0.  , 1.  , 0.  ],\n",
              "       [0.88, 0.  , 0.  , 0.03, 0.  , 0.  , 0.08, 0.  , 0.  , 0.  ],\n",
              "       [0.  , 0.  , 1.  , 0.  , 0.  , 0.  , 0.  , 0.  , 0.  , 0.  ],\n",
              "       [0.  , 0.  , 0.  , 0.  , 0.  , 1.  , 0.  , 0.  , 0.  , 0.  ]],\n",
              "      dtype=float32)"
            ]
          },
          "metadata": {},
          "execution_count": 75
        }
      ]
    },
    {
      "cell_type": "code",
      "metadata": {
        "id": "3HxgIY6q_yt5"
      },
      "source": [
        "classes=np.argmax(yproba,axis=1)"
      ],
      "execution_count": 76,
      "outputs": []
    },
    {
      "cell_type": "code",
      "metadata": {
        "colab": {
          "base_uri": "https://localhost:8080/"
        },
        "id": "bgYGsIwo_-cf",
        "outputId": "c0b326b7-9ff8-4046-faf0-81b734175caa"
      },
      "source": [
        "np.array(class_names)[classes]"
      ],
      "execution_count": 77,
      "outputs": [
        {
          "output_type": "execute_result",
          "data": {
            "text/plain": [
              "array(['Trouser', 'Pullover', 'Pullover', 'Bag', 'Tshirt', 'Pullover',\n",
              "       'Sandal'], dtype='<U10')"
            ]
          },
          "metadata": {},
          "execution_count": 77
        }
      ]
    },
    {
      "cell_type": "code",
      "metadata": {
        "colab": {
          "base_uri": "https://localhost:8080/",
          "height": 282
        },
        "id": "WknsqVbNAy3c",
        "outputId": "376cea50-dab1-4e88-8805-229b70c41ae7"
      },
      "source": [
        "print(plt.imshow(X_test[15]))"
      ],
      "execution_count": 82,
      "outputs": [
        {
          "output_type": "stream",
          "text": [
            "AxesImage(54,36;334.8x217.44)\n"
          ],
          "name": "stdout"
        },
        {
          "output_type": "display_data",
          "data": {
            "image/png": "[encoded data removed]",
            "text/plain": [
              "<Figure size 432x288 with 1 Axes>"
            ]
          },
          "metadata": {
            "needs_background": "light"
          }
        }
      ]
    },
    {
      "cell_type": "code",
      "metadata": {
        "id": "sp7iD_TzBJyz"
      },
      "source": [
        ""
      ],
      "execution_count": 66,
      "outputs": []
    }
  ]
}